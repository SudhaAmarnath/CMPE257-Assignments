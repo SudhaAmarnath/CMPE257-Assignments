{
  "nbformat": 4,
  "nbformat_minor": 0,
  "metadata": {
    "kernelspec": {
      "display_name": "Python 3",
      "language": "python",
      "name": "python3"
    },
    "language_info": {
      "codemirror_mode": {
        "name": "ipython",
        "version": 3
      },
      "file_extension": ".py",
      "mimetype": "text/x-python",
      "name": "python",
      "nbconvert_exporter": "python",
      "pygments_lexer": "ipython3",
      "version": "3.7.3"
    },
    "colab": {
      "name": "GMM_Clustering_SudhaAmarnath.ipynb",
      "provenance": [],
      "collapsed_sections": []
    }
  },
  "cells": [
    {
      "cell_type": "markdown",
      "metadata": {
        "id": "ShoUzlM1F4ID",
        "colab_type": "text"
      },
      "source": [
        "# E Cigarette Smoke Free Indoor Air Clustering\n",
        "\n",
        "## ML Assignment 2 : Clusetring with GMM\n",
        "\n",
        "### [Google Drive Dataset Link](https://drive.google.com/open?id=14OlNrJvCG8YUnaovZD2uMpySM5UD-A1V) \n",
        "\n",
        "### Course code : CMPE-257\n",
        "### Author: Sudha Amarnath (013709956)\n",
        "\n"
      ]
    },
    {
      "cell_type": "markdown",
      "metadata": {
        "id": "9XzIMPJiF4IE",
        "colab_type": "text"
      },
      "source": [
        "The STATE System houses current and historical state-level legislative data on tobacco use prevention and control policies. Data are reported on a quarterly basis. Data include information related to state legislation on smokefree indoor air in areas such as: Bars, Commercial Day Care Centers, Government Multi-Unit Housing, Government Worksites, Home-Based Day Care Centers, Hotels and Motels, Personal Vehicles, Private Multi-Unit Housing, Private Worksites, Restaurants, Bingo Halls, Casinos, Enclosed Arenas, Grocery Stores, Hospitals, Hospital Campuses, Malls, Mental Health Outpatient and Residential Facilities, Prisons, Public Transportation, Racetrack Casinos, Substance Abuse Outpatient and Residential Facilities.\n",
        "\n",
        "\n",
        "As for the vaping trend analysis, we want to know what kinds of provision locations the e-cigarette trend is high for a given province. In this way, we could find where the e-cigarette smoking is banned, allowed of if there are any fines in the province. \n",
        "\n",
        "\n",
        "Following steps are done to arrive at the business conclusion.\n",
        "1. Preparing the dataset\n",
        "2. Identifying number of columns for clustering\n",
        "3. Find the optimum clusters using Elbow method\n",
        "4. Applying GMM clustering with Scikit Learn\n",
        "5. Applying K-means clustering using Tensor Flow\n",
        "6. Applying K-means, Mini Batch KMeans clustering using Scikit Learn\n",
        "7. Comparing Metrics between the algorithms\n",
        "8. Analysing the resultant clusters\n",
        "9. Bar chart plots to compare cluseters\n",
        "9. Visualizing restricted count using state wise map\n"
      ]
    },
    {
      "cell_type": "markdown",
      "metadata": {
        "id": "GG9eYLXjF4IF",
        "colab_type": "text"
      },
      "source": [
        "### Importing Required Libraries"
      ]
    },
    {
      "cell_type": "code",
      "metadata": {
        "id": "TkGOe1hfF4IF",
        "colab_type": "code",
        "colab": {}
      },
      "source": [
        "# Author: Sudha Amarnath <sudha.amarnath@sjsu.edu>\n",
        "\n",
        "import random\n",
        "import pandas as pd\n",
        "import numpy as np\n",
        "import warnings\n",
        "import matplotlib.pyplot as plt\n",
        "import sklearn.cluster.k_means_\n",
        "import tensorflow as tf\n",
        "import seaborn as sns\n",
        "import plotly.graph_objects as go\n",
        "\n",
        "from time import time\n",
        "from sklearn import mixture\n",
        "from sklearn.cluster import DBSCAN\n",
        "from sklearn.preprocessing import StandardScaler\n",
        "from sklearn import cluster\n",
        "from sklearn.cluster import KMeans\n",
        "from sklearn import metrics\n",
        "from scipy.spatial.distance import cdist\n",
        "%matplotlib inline\n",
        "\n",
        "# import warnings filter\n",
        "from warnings import simplefilter\n",
        "# ignore all future warnings\n",
        "simplefilter(action='ignore', category=FutureWarning)\n",
        "\n",
        "!pip install -U -q PyDrive\n",
        "from pydrive.auth import GoogleAuth\n",
        "from pydrive.drive import GoogleDrive\n",
        "from google.colab import auth\n",
        "from oauth2client.client import GoogleCredentials\n",
        "import os\n",
        "import pandas as pd\n",
        "auth.authenticate_user()\n",
        "gauth = GoogleAuth()\n",
        "gauth.credentials = GoogleCredentials.get_application_default()\n",
        "drive = GoogleDrive(gauth)\n"
      ],
      "execution_count": 0,
      "outputs": []
    },
    {
      "cell_type": "code",
      "metadata": {
        "scrolled": false,
        "id": "t_RhwkI-F4II",
        "colab_type": "code",
        "outputId": "82dd1c2b-18f2-430a-f1d7-d414ddb5a885",
        "colab": {
          "base_uri": "https://localhost:8080/",
          "height": 654
        }
      },
      "source": [
        "# load the CSV file and create a new DataFrame out of it.\n",
        "\n",
        "filename = 'CDC_STATE_System_E-Cigarette_Legislation_-_Smokefree_Indoor_Air.csv'\n",
        "link = 'https://drive.google.com/open?id=14OlNrJvCG8YUnaovZD2uMpySM5UD-A1V'\n",
        "fluff, id = link.split('=')\n",
        "print('File Name = ', filename)\n",
        "print('File ID = ', id)\n",
        "downloaded = drive.CreateFile({'id':id}) \n",
        "downloaded.GetContentFile(filename)  \n",
        "#df = pd.read_csv(filename,low_memory=False, nrows=100000)\n",
        "df = pd.read_csv(filename,low_memory=False)\n",
        "\n",
        "#df = df.sort_values(by=['YEAR'], ascending=False)\n",
        "\n",
        "#df = df[df['YEAR'] >= 2013] \n",
        "df = df.head(100000)\n",
        "df = df.reset_index(drop=True)\n",
        "print(df.shape)\n",
        "df.head()\n",
        "\n"
      ],
      "execution_count": 2,
      "outputs": [
        {
          "output_type": "stream",
          "text": [
            "File Name =  CDC_STATE_System_E-Cigarette_Legislation_-_Smokefree_Indoor_Air.csv\n",
            "File ID =  14OlNrJvCG8YUnaovZD2uMpySM5UD-A1V\n",
            "(100000, 23)\n"
          ],
          "name": "stdout"
        },
        {
          "output_type": "execute_result",
          "data": {
            "text/html": [
              "<div>\n",
              "<style scoped>\n",
              "    .dataframe tbody tr th:only-of-type {\n",
              "        vertical-align: middle;\n",
              "    }\n",
              "\n",
              "    .dataframe tbody tr th {\n",
              "        vertical-align: top;\n",
              "    }\n",
              "\n",
              "    .dataframe thead th {\n",
              "        text-align: right;\n",
              "    }\n",
              "</style>\n",
              "<table border=\"1\" class=\"dataframe\">\n",
              "  <thead>\n",
              "    <tr style=\"text-align: right;\">\n",
              "      <th></th>\n",
              "      <th>YEAR</th>\n",
              "      <th>Quarter</th>\n",
              "      <th>LocationAbbr</th>\n",
              "      <th>LocationDesc</th>\n",
              "      <th>TopicDesc</th>\n",
              "      <th>MeasureDesc</th>\n",
              "      <th>DataSource</th>\n",
              "      <th>ProvisionGroupDesc</th>\n",
              "      <th>ProvisionDesc</th>\n",
              "      <th>ProvisionValue</th>\n",
              "      <th>Citation</th>\n",
              "      <th>ProvisionAltValue</th>\n",
              "      <th>DataType</th>\n",
              "      <th>Comments</th>\n",
              "      <th>Enacted_Date</th>\n",
              "      <th>Effective_Date</th>\n",
              "      <th>GeoLocation</th>\n",
              "      <th>DisplayOrder</th>\n",
              "      <th>TopicTypeId</th>\n",
              "      <th>TopicId</th>\n",
              "      <th>MeasureId</th>\n",
              "      <th>ProvisionGroupID</th>\n",
              "      <th>ProvisionID</th>\n",
              "    </tr>\n",
              "  </thead>\n",
              "  <tbody>\n",
              "    <tr>\n",
              "      <th>0</th>\n",
              "      <td>2016</td>\n",
              "      <td>3</td>\n",
              "      <td>UT</td>\n",
              "      <td>Utah</td>\n",
              "      <td>Legislation - E-Cigarette - Smokefree Indoor Air</td>\n",
              "      <td>Smokefree Indoor Air – Other Sites</td>\n",
              "      <td>OSH</td>\n",
              "      <td>Restriction Areas</td>\n",
              "      <td>Malls</td>\n",
              "      <td>Banned</td>\n",
              "      <td>UTAH CODE ANN. §§ 26-38-2 and 26-38-3</td>\n",
              "      <td>4</td>\n",
              "      <td>Ranking</td>\n",
              "      <td>Electronic Cigarettes are included in the Utah...</td>\n",
              "      <td>3/19/2012</td>\n",
              "      <td>5/8/2012</td>\n",
              "      <td>(39.360700171000474, -111.58713063499971)</td>\n",
              "      <td>7</td>\n",
              "      <td>LEG</td>\n",
              "      <td>1042LEG</td>\n",
              "      <td>1011SIO</td>\n",
              "      <td>15GRP</td>\n",
              "      <td>722</td>\n",
              "    </tr>\n",
              "    <tr>\n",
              "      <th>1</th>\n",
              "      <td>2018</td>\n",
              "      <td>4</td>\n",
              "      <td>MA</td>\n",
              "      <td>Massachusetts</td>\n",
              "      <td>Legislation - E-Cigarette - Smokefree Indoor Air</td>\n",
              "      <td>Bars</td>\n",
              "      <td>OSH</td>\n",
              "      <td>Penalties</td>\n",
              "      <td>Penalty to User</td>\n",
              "      <td>Yes</td>\n",
              "      <td>Mass. Gen. Laws 270, § 22</td>\n",
              "      <td>2</td>\n",
              "      <td>Ranking</td>\n",
              "      <td>NaN</td>\n",
              "      <td>7/27/2018</td>\n",
              "      <td>12/31/2018</td>\n",
              "      <td>(42.27687047000046, -72.08269067499964)</td>\n",
              "      <td>11</td>\n",
              "      <td>LEG</td>\n",
              "      <td>1042LEG</td>\n",
              "      <td>1013BAR</td>\n",
              "      <td>60GRP</td>\n",
              "      <td>594</td>\n",
              "    </tr>\n",
              "    <tr>\n",
              "      <th>2</th>\n",
              "      <td>2018</td>\n",
              "      <td>4</td>\n",
              "      <td>MA</td>\n",
              "      <td>Massachusetts</td>\n",
              "      <td>Legislation - E-Cigarette - Smokefree Indoor Air</td>\n",
              "      <td>Government Worksites</td>\n",
              "      <td>OSH</td>\n",
              "      <td>Penalties</td>\n",
              "      <td>Penalty to User</td>\n",
              "      <td>Yes</td>\n",
              "      <td>Mass. Gen. Laws 270, § 22</td>\n",
              "      <td>2</td>\n",
              "      <td>Yes/No</td>\n",
              "      <td>NaN</td>\n",
              "      <td>7/27/2018</td>\n",
              "      <td>12/31/2018</td>\n",
              "      <td>(42.27687047000046, -72.08269067499964)</td>\n",
              "      <td>17</td>\n",
              "      <td>LEG</td>\n",
              "      <td>1042LEG</td>\n",
              "      <td>1003GWK</td>\n",
              "      <td>60GRP</td>\n",
              "      <td>788</td>\n",
              "    </tr>\n",
              "    <tr>\n",
              "      <th>3</th>\n",
              "      <td>2018</td>\n",
              "      <td>4</td>\n",
              "      <td>UT</td>\n",
              "      <td>Utah</td>\n",
              "      <td>Legislation - E-Cigarette - Smokefree Indoor Air</td>\n",
              "      <td>Government Multi-Unit Housing</td>\n",
              "      <td>OSH</td>\n",
              "      <td>Restrictions</td>\n",
              "      <td>Type of Restriction in Living Area of Governme...</td>\n",
              "      <td>Banned</td>\n",
              "      <td>UTAH CODE ANN. §§ 26-38-2 and 26-38-3</td>\n",
              "      <td>4</td>\n",
              "      <td>Ranking</td>\n",
              "      <td>Electronic Cigarettes are included in the Utah...</td>\n",
              "      <td>3/19/2012</td>\n",
              "      <td>5/8/2012</td>\n",
              "      <td>(39.360700171000474, -111.58713063499971)</td>\n",
              "      <td>2</td>\n",
              "      <td>LEG</td>\n",
              "      <td>1042LEG</td>\n",
              "      <td>1004GMH</td>\n",
              "      <td>10GRP</td>\n",
              "      <td>611</td>\n",
              "    </tr>\n",
              "    <tr>\n",
              "      <th>4</th>\n",
              "      <td>2015</td>\n",
              "      <td>1</td>\n",
              "      <td>UT</td>\n",
              "      <td>Utah</td>\n",
              "      <td>Legislation - E-Cigarette - Smokefree Indoor Air</td>\n",
              "      <td>Smokefree Indoor Air – Other Sites</td>\n",
              "      <td>OSH</td>\n",
              "      <td>Restriction Areas</td>\n",
              "      <td>Public Transportation</td>\n",
              "      <td>Banned</td>\n",
              "      <td>UTAH CODE ANN. §§ 26-38-2 and 26-38-3</td>\n",
              "      <td>4</td>\n",
              "      <td>Ranking</td>\n",
              "      <td>Electronic Cigarettes are included in the Utah...</td>\n",
              "      <td>3/19/2012</td>\n",
              "      <td>5/8/2012</td>\n",
              "      <td>(39.360700171000474, -111.58713063499971)</td>\n",
              "      <td>11</td>\n",
              "      <td>LEG</td>\n",
              "      <td>1042LEG</td>\n",
              "      <td>1011SIO</td>\n",
              "      <td>15GRP</td>\n",
              "      <td>726</td>\n",
              "    </tr>\n",
              "  </tbody>\n",
              "</table>\n",
              "</div>"
            ],
            "text/plain": [
              "   YEAR  Quarter LocationAbbr  ... MeasureId ProvisionGroupID ProvisionID\n",
              "0  2016        3           UT  ...   1011SIO            15GRP         722\n",
              "1  2018        4           MA  ...   1013BAR            60GRP         594\n",
              "2  2018        4           MA  ...   1003GWK            60GRP         788\n",
              "3  2018        4           UT  ...   1004GMH            10GRP         611\n",
              "4  2015        1           UT  ...   1011SIO            15GRP         726\n",
              "\n",
              "[5 rows x 23 columns]"
            ]
          },
          "metadata": {
            "tags": []
          },
          "execution_count": 2
        }
      ]
    },
    {
      "cell_type": "markdown",
      "metadata": {
        "id": "aM5MvlpBF4IL",
        "colab_type": "text"
      },
      "source": [
        "### Preparing dataset\n",
        "Replace the given LocationDesc value with the mapped equivalent, LocationID<br/>\n",
        "Replace the given ProvisionGroupDesc value with the mapped equivalent, ProvisionGroupID<br/>\n",
        "Replace the given ProvisionValue value with the mapped equivalent, ProvisionValueID<br/>\n",
        "Replace the given MeasureDesc value with the mapped equivalent, MeasureDescID<br/>\n",
        "Replace the given ProvisionDesc value with the mapped equivalent, ProvisionDescID<br/>\n"
      ]
    },
    {
      "cell_type": "code",
      "metadata": {
        "id": "d-NyBZQ7mn14",
        "colab_type": "code",
        "outputId": "58f51711-3de3-457e-e0e0-a7e8a128bf95",
        "colab": {
          "base_uri": "https://localhost:8080/",
          "height": 72
        }
      },
      "source": [
        "lat = []\n",
        "lon = []\n",
        "for row in df['GeoLocation']:\n",
        "    try:\n",
        "        lat.append(row.split(',')[0].strip('('))\n",
        "        lon.append(row.split(',')[1].strip(')'))\n",
        "    except:\n",
        "        lat.append(np.NaN)\n",
        "        lon.append(np.NaN)\n",
        "df['Latitude'] = lat\n",
        "df['Longitude'] = lon\n",
        "\n",
        "lat = df['Latitude'].unique().tolist()\n",
        "lon = df['Longitude'].unique().tolist()\n",
        "latMapping = dict( zip(lat,range(len(lat))) )\n",
        "lonMapping = dict( zip(lon,range(len(lon))) )\n",
        "\n",
        "print(latMapping)\n",
        "print(lonMapping)\n",
        "\n",
        "\n"
      ],
      "execution_count": 3,
      "outputs": [
        {
          "output_type": "stream",
          "text": [
            "{'39.360700171000474': 0, '42.27687047000046': 1, '43.62538123900049': 2, '40.13057004800049': 3, '38.89037138500049': 4, '32.83968109300048': 5, '47.52227862900048': 6, '37.63864012300047': 7, '39.766910452000445': 8, '38.66551020200046': 9, '38.34774030000045': 10, '38.635790776000476': 11, '47.47531977900047': 12, '64.84507995700051': 13, '44.56744942400047': 14, '47.06652897200047': 15, '39.008830667000495': 16, '31.827240407000488': 17, '13.444304': 18, '34.52088095200048': 19, '35.68094058000048': 20, '21.304850435000446': 21, '41.6410409880005': 22, '44.6613195430005': 23, '28.932040377000476': 24, '46.35564873600049': 25, '43.23554134300048': 26, '43.682630005000476': 27, '38.843840757000464': 28, '39.493240390000494': 29, '15.0979': 30, '40.48501028300046': 31, '35.466220975000454': 32, '45.254228894000505': 33, '40.06021014100048': 34, '31.31266064400046': 35, '32.84057112200048': 36, '42.82700103200045': 37, '18.220833': 38, '7.514979999999999': 39, '42.46940091300047': 40, '41.70828019300046': 41, '41.56266102000046': 42, '39.29058096400047': 43, '37.645970271000465': 44, '-14.3016396': 45, '34.865970280000454': 46, '35.47203135600046': 47, '32.745510099000455': 48, '33.998821303000454': 49, '40.79373015200048': 50, '44.39319117400049': 51, '18.335765': 52, '43.65595011300047': 53, '11.3246908': 54, '44.353130053000484': 55, '34.74865012400045': 56, '37.54268067400045': 57}\n",
            "{' -111.58713063499971': 0, ' -72.08269067499964': 1, ' -72.51764079099962': 2, ' -74.27369128799967': 3, ' -77.03196112699965': 4, ' -83.62758034599966': 5, ' -120.47001078999972': 6, ' -120.99999953799971': 7, ' -86.14996019399968': 8, ' -80.71264013499967': 9, ' -98.20078122699965': 10, ' -92.56630005299968': 11, ' -100.11842104899966': 12, ' -147.72205903599973': 13, ' -120.15503132599969': 14, ' -109.42442064499971': 15, ' -75.57774116799965': 16, ' -99.42677020599967': 17, ' 144.793731': 18, ' -106.24058098499967': 19, ' -85.77449091399967': 20, ' -157.85774940299973': 21, ' -99.36572062299967': 22, ' -84.71439026999968': 23, ' -81.92896053899966': 24, ' -94.79420050299967': 25, ' -108.10983035299967': 26, ' -114.3637300419997': 27, ' -106.13361092099967': 28, ' -117.07184056399967': 29, ' 145.6739': 30, ' -88.99771017799969': 31, ' -79.15925046299964': 32, ' -68.98503133599962': 33, ' -82.40426005599966': 34, ' -92.44568007099969': 35, ' -86.63186076199969': 36, ' -75.54397042699964': 37, ' -66.590149': 38, ' 134.58251999999993': 39, ' -93.81649055599968': 40, ' -71.52247031399963': 41, ' -72.64984095199964': 42, ' -76.60926011099963': 43, ' -84.77497104799966': 44, ' -170.69618149999997': 45, ' -111.76381127699972': 46, ' -97.52107021399968': 47, ' -89.53803082499968': 48, ' -81.04537120699968': 49, ' -77.86070029399963': 50, ' -89.81637074199966': 51, ' -64.896335': 52, ' -71.50036091999965': 53, ' 166.84174239999993': 54, ' -100.3735306369997': 55, ' -92.27449074299966': 56, ' -78.45789046299967': 57}\n"
          ],
          "name": "stdout"
        }
      ]
    },
    {
      "cell_type": "code",
      "metadata": {
        "id": "wqLx0ofbF4IM",
        "colab_type": "code",
        "outputId": "f904863f-a708-48a1-e0b2-f9a10348fcc4",
        "colab": {
          "base_uri": "https://localhost:8080/",
          "height": 107
        }
      },
      "source": [
        "location_id = df['LocationDesc'].unique().tolist()\n",
        "mapping = dict( zip(location_id,range(len(location_id))) )\n",
        "df.replace({'location_id': mapping},inplace=True)\n",
        "LocationID = []\n",
        "for row in df['LocationDesc']:\n",
        "    try:\n",
        "        LocationID.append(mapping[row.strip()])\n",
        "    except:\n",
        "        LocationID.append(np.NaN)\n",
        "df['LocationID'] = LocationID\n",
        "\n",
        "locationIndexList = list(set(LocationID))\n",
        "latitudeIndexList = []\n",
        "longitudeIndexList = []\n",
        "locAbbrIndexList = []\n",
        "\n",
        "for i in locationIndexList:\n",
        "  latitudeIndexList.append(df.loc[df['LocationID'] == i, 'Latitude'].iloc[0])\n",
        "  longitudeIndexList.append(df.loc[df['LocationID'] == i, 'Longitude'].iloc[0])\n",
        "  locAbbrIndexList.append(df.loc[df['LocationID'] == i, 'LocationAbbr'].iloc[0])\n",
        "  \n",
        "latitudeIndexList = list(np.float_(latitudeIndexList))\n",
        "longitudeIndexList = list(np.float_(longitudeIndexList))\n",
        "print(locationIndexList)\n",
        "print(locAbbrIndexList)\n",
        "\n",
        "print(latitudeIndexList)\n",
        "print(longitudeIndexList)\n"
      ],
      "execution_count": 4,
      "outputs": [
        {
          "output_type": "stream",
          "text": [
            "[0, 1, 2, 3, 4, 5, 6, 7, 8, 9, 10, 11, 12, 13, 14, 15, 16, 17, 18, 19, 20, 21, 22, 23, 24, 25, 26, 27, 28, 29, 30, 31, 32, 33, 34, 35, 36, 37, 38, 39, 40, 41, 42, 43, 44, 45, 46, 47, 48, 49, 50, 51, 52, 53, 54, 55, 56, 57]\n",
            "['UT', 'MA', 'VT', 'NJ', 'DC', 'GA', 'WA', 'CA', 'IN', 'WV', 'KS', 'MO', 'ND', 'AK', 'OR', 'MT', 'DE', 'TX', 'GU', 'NM', 'TN', 'HI', 'NE', 'MI', 'FL', 'MN', 'WY', 'ID', 'CO', 'NV', 'MP', 'IL', 'NC', 'ME', 'OH', 'LA', 'AL', 'NY', 'PR', 'PW', 'IA', 'RI', 'CT', 'MD', 'KY', 'AS', 'AZ', 'OK', 'MS', 'SC', 'PA', 'WI', 'VI', 'NH', 'MH', 'SD', 'AR', 'VA']\n",
            "[39.360700171000474, 42.27687047000046, 43.62538123900049, 40.13057004800049, 38.89037138500049, 32.83968109300048, 47.52227862900048, 37.63864012300047, 39.766910452000445, 38.66551020200046, 38.34774030000045, 38.635790776000476, 47.47531977900047, 64.84507995700051, 44.56744942400047, 47.06652897200047, 39.008830667000495, 31.827240407000488, 13.444304, 34.52088095200048, 35.68094058000048, 21.304850435000446, 41.6410409880005, 44.6613195430005, 28.932040377000476, 46.35564873600049, 43.23554134300048, 43.682630005000476, 38.843840757000464, 39.493240390000494, 15.0979, 40.48501028300046, 35.466220975000454, 45.254228894000505, 40.06021014100048, 31.31266064400046, 32.84057112200048, 42.82700103200045, 18.220833, 7.514979999999999, 42.46940091300047, 41.70828019300046, 41.56266102000046, 39.29058096400047, 37.645970271000465, -14.3016396, 34.865970280000454, 35.47203135600046, 32.745510099000455, 33.998821303000454, 40.79373015200048, 44.39319117400049, 18.335765, 43.65595011300047, 11.3246908, 44.353130053000484, 34.74865012400045, 37.54268067400045]\n",
            "[-111.58713063499971, -72.08269067499964, -72.51764079099962, -74.27369128799967, -77.03196112699965, -83.62758034599966, -120.47001078999972, -120.99999953799971, -86.14996019399968, -80.71264013499967, -98.20078122699965, -92.56630005299968, -100.11842104899966, -147.72205903599973, -120.15503132599969, -109.42442064499971, -75.57774116799965, -99.42677020599967, 144.793731, -106.24058098499967, -85.77449091399967, -157.85774940299973, -99.36572062299967, -84.71439026999968, -81.92896053899966, -94.79420050299967, -108.10983035299967, -114.3637300419997, -106.13361092099967, -117.07184056399967, 145.6739, -88.99771017799969, -79.15925046299964, -68.98503133599962, -82.40426005599966, -92.44568007099969, -86.63186076199969, -75.54397042699964, -66.590149, 134.58251999999993, -93.81649055599968, -71.52247031399963, -72.64984095199964, -76.60926011099963, -84.77497104799966, -170.69618149999997, -111.76381127699972, -97.52107021399968, -89.53803082499968, -81.04537120699968, -77.86070029399963, -89.81637074199966, -64.896335, -71.50036091999965, 166.84174239999993, -100.3735306369997, -92.27449074299966, -78.45789046299967]\n"
          ],
          "name": "stdout"
        }
      ]
    },
    {
      "cell_type": "code",
      "metadata": {
        "id": "V0bIy5UmF4IO",
        "colab_type": "code",
        "colab": {}
      },
      "source": [
        "provision_group_id = df['ProvisionGroupDesc'].unique().tolist()\n",
        "mapping = dict( zip(provision_group_id,range(len(provision_group_id))) )\n",
        "df.replace({'provision_group_id': mapping},inplace=True)\n",
        "\n",
        "ProvisionGroupID = []\n",
        "for row in df['ProvisionGroupDesc']:\n",
        "    try:\n",
        "        ProvisionGroupID.append(mapping[row.strip()])\n",
        "    except:\n",
        "        ProvisionGroupID.append(np.NaN)\n",
        "df['ProvisionGroupID'] = ProvisionGroupID"
      ],
      "execution_count": 0,
      "outputs": []
    },
    {
      "cell_type": "code",
      "metadata": {
        "id": "DMtCLM_cF4IQ",
        "colab_type": "code",
        "colab": {}
      },
      "source": [
        "provision_value_id = df['ProvisionValue'].unique().tolist()\n",
        "mapping = dict( zip(provision_value_id,range(len(provision_value_id))) )\n",
        "df.replace({'provision_value_id': mapping},inplace=True)\n",
        "\n",
        "ProvisionValueID = []\n",
        "for row in df['ProvisionValue']:\n",
        "    try:\n",
        "        ProvisionValueID.append(mapping[row.strip()])\n",
        "    except:\n",
        "        ProvisionValueID.append(np.NaN)\n",
        "df['ProvisionValueID'] = ProvisionValueID"
      ],
      "execution_count": 0,
      "outputs": []
    },
    {
      "cell_type": "code",
      "metadata": {
        "id": "GMk54aDxF4IS",
        "colab_type": "code",
        "colab": {}
      },
      "source": [
        "measure_desc_id = df['MeasureDesc'].unique().tolist()\n",
        "mapping = dict( zip(measure_desc_id,range(len(measure_desc_id))) )\n",
        "df.replace({'measure_desc_id': mapping},inplace=True)\n",
        "\n",
        "MeasureDescID = []\n",
        "for row in df['MeasureDesc']:\n",
        "    try:\n",
        "        MeasureDescID.append(mapping[row.strip()])\n",
        "    except:\n",
        "        MeasureDescID.append(np.NaN)\n",
        "df['MeasureDescID'] = MeasureDescID"
      ],
      "execution_count": 0,
      "outputs": []
    },
    {
      "cell_type": "code",
      "metadata": {
        "id": "deCualaWF4IU",
        "colab_type": "code",
        "outputId": "b0abcdab-a981-45b9-dc56-3ce3066035ff",
        "colab": {
          "base_uri": "https://localhost:8080/",
          "height": 54
        }
      },
      "source": [
        "provision_desc_id = df['ProvisionDesc'].unique().tolist()\n",
        "mapping = dict( zip(provision_desc_id,range(len(provision_desc_id))) )\n",
        "print(mapping)\n",
        "df.replace({'provision_desc_id': mapping},inplace=True)\n",
        "\n",
        "ProvisionDescID = []\n",
        "for row in df['ProvisionDesc']:\n",
        "    try:\n",
        "        ProvisionDescID.append(mapping[row.strip()])\n",
        "    except:\n",
        "        ProvisionDescID.append(np.NaN)\n",
        "df['ProvisionDescID'] = ProvisionDescID"
      ],
      "execution_count": 8,
      "outputs": [
        {
          "output_type": "stream",
          "text": [
            "{'Malls': 0, 'Penalty to User': 1, 'Type of Restriction in Living Area of Government Multi-Unit Housing': 2, 'Public Transportation': 3, 'Type of Restriction in Restaurant Employee Area': 4, 'Type of Restriction in Lobby and Common Area of Hotel and Motel': 5, 'Type of Restriction in Bar Patron Area': 6, 'Mental Health - Outpatient Facilities': 7, 'Type of Restriction in Commercial Day Care': 8, 'Restrictions in Effect Only When Child on Premises': 9, 'Prohibited But\\xa0Language Does Not\\xa0Specify Home-Based': 10, 'Type of Restriction in Private Worksite': 11, 'Maximum Penalty ($)': 12, 'Minimum Number\\xa0of Employees\\xa0Required (#)': 13, 'Type of Restriction in Bar (Summary)': 14, 'Grocery Stores': 15, 'Racetrack Casinos': 16, 'Penalty to Business': 17, 'Type of Restriction in Restaurant (Summary)': 18, 'Type of Restriction in Personal Vehicle': 19, 'Sleeping Room Designation (Type)': 20, 'Enforcement (Type)': 21, 'Enclosed Arenas': 22, 'Penalty to Business (Type)': 23, 'Type of Restriction in Restaurant Bar Area': 24, 'Type of Restriction in Restaurant Patron Area': 25, 'Local Government Covered': 26, 'Type of Restriction in Bar Employee Area': 27, 'Type of Restriction in Home-Based Day Care': 28, 'Enforcement Authority': 29, 'Minimum Penalty ($)': 30, 'Type of Restriction in Government Worksite': 31, 'Type of Restriction in Lobby and Common Area of Government Multi-Unit Housing': 32, 'Casinos': 33, 'Sleeping Room Designation': 34, 'Non-Retaliation\\xa0Provision': 35, 'Substance Use - Outpatient Facilities': 36, 'Signage Required': 37, 'Minimum Percent of Sleeping Rooms Designated': 38, 'Minimum Number of Employees Required': 39, 'Mental Health - Residential Facilities': 40, 'Bingo Halls': 41, 'Hospitals': 42, 'Type of Restriction in Government Worksite Vehicle': 43, 'Restriction in Effect at All Times': 44, 'Substance Use - Residential Facilities': 45, 'Maximum Percent of Sleeping Rooms Designated': 46, 'Type of Restriction in Living Area of Private Multi-Unit Housing': 47, 'Minimum\\xa0Seating Capacity (#)': 48, 'Level of Offense': 49, 'Weight Requirement of Child (lbs)': 50, 'Distance From Entrances/Exits (ft)': 51, 'Type of Restriction in Lobby and Common Area of Private Multi-Unit Housing': 52, 'Minimum\\xa0Seating Capacity': 53, 'Written Policy\\xa0Required': 54, 'Hospital Campuses': 55, 'Requires a Child in the Vehicle': 56, 'Prisons': 57, 'Executive Order': 58, 'Type of Restriction in Home-Based Day Care Vehicle': 59, 'Percent Smokefree Seating': 60, 'Requires a Child in a Safety Seat': 61, 'Requires More Than One Person in Vehicle': 62, 'Age Requirement of Child (Years)': 63, 'License Suspension or Revocation': 64, 'Penalty to Driver': 65, 'Type of Restriction in Private Worksite Vehicle': 66, 'Penalty to Driver (Type)': 67, 'Type of Restriction in Commercial Day Care Vehicle': 68}\n"
          ],
          "name": "stdout"
        }
      ]
    },
    {
      "cell_type": "markdown",
      "metadata": {
        "id": "_E-TvMoeF4IW",
        "colab_type": "text"
      },
      "source": [
        "### Remove a row or a column from  dataframe which has a NaN or no values in it.\n"
      ]
    },
    {
      "cell_type": "code",
      "metadata": {
        "scrolled": true,
        "id": "PVpobfNAF4IX",
        "colab_type": "code",
        "outputId": "e5f4c494-f7f8-45b2-9c0b-dfcf5975b189",
        "colab": {
          "base_uri": "https://localhost:8080/",
          "height": 295
        }
      },
      "source": [
        "#ProvisionID is ProvisionDesc\n",
        "#LocationID is LocationDesc\n",
        "#ProvisionGroupID is ProvisionGroupDesc\n",
        "#ProvisionValueID is ProvisionValue\n",
        "#ProvisionDescID is ProvisionDesc\n",
        "#MeasureDescID is MeasureDesc\n",
        "\n",
        "df.dropna(subset = ['ProvisionID', 'LocationID', 'ProvisionGroupID', 'ProvisionValueID', 'MeasureDescID','ProvisionDescID'], inplace = True)\n",
        "print(df.shape)\n",
        "df.head(2)"
      ],
      "execution_count": 9,
      "outputs": [
        {
          "output_type": "stream",
          "text": [
            "(100000, 29)\n"
          ],
          "name": "stdout"
        },
        {
          "output_type": "execute_result",
          "data": {
            "text/html": [
              "<div>\n",
              "<style scoped>\n",
              "    .dataframe tbody tr th:only-of-type {\n",
              "        vertical-align: middle;\n",
              "    }\n",
              "\n",
              "    .dataframe tbody tr th {\n",
              "        vertical-align: top;\n",
              "    }\n",
              "\n",
              "    .dataframe thead th {\n",
              "        text-align: right;\n",
              "    }\n",
              "</style>\n",
              "<table border=\"1\" class=\"dataframe\">\n",
              "  <thead>\n",
              "    <tr style=\"text-align: right;\">\n",
              "      <th></th>\n",
              "      <th>YEAR</th>\n",
              "      <th>Quarter</th>\n",
              "      <th>LocationAbbr</th>\n",
              "      <th>LocationDesc</th>\n",
              "      <th>TopicDesc</th>\n",
              "      <th>MeasureDesc</th>\n",
              "      <th>DataSource</th>\n",
              "      <th>ProvisionGroupDesc</th>\n",
              "      <th>ProvisionDesc</th>\n",
              "      <th>ProvisionValue</th>\n",
              "      <th>Citation</th>\n",
              "      <th>ProvisionAltValue</th>\n",
              "      <th>DataType</th>\n",
              "      <th>Comments</th>\n",
              "      <th>Enacted_Date</th>\n",
              "      <th>Effective_Date</th>\n",
              "      <th>GeoLocation</th>\n",
              "      <th>DisplayOrder</th>\n",
              "      <th>TopicTypeId</th>\n",
              "      <th>TopicId</th>\n",
              "      <th>MeasureId</th>\n",
              "      <th>ProvisionGroupID</th>\n",
              "      <th>ProvisionID</th>\n",
              "      <th>Latitude</th>\n",
              "      <th>Longitude</th>\n",
              "      <th>LocationID</th>\n",
              "      <th>ProvisionValueID</th>\n",
              "      <th>MeasureDescID</th>\n",
              "      <th>ProvisionDescID</th>\n",
              "    </tr>\n",
              "  </thead>\n",
              "  <tbody>\n",
              "    <tr>\n",
              "      <th>0</th>\n",
              "      <td>2016</td>\n",
              "      <td>3</td>\n",
              "      <td>UT</td>\n",
              "      <td>Utah</td>\n",
              "      <td>Legislation - E-Cigarette - Smokefree Indoor Air</td>\n",
              "      <td>Smokefree Indoor Air – Other Sites</td>\n",
              "      <td>OSH</td>\n",
              "      <td>Restriction Areas</td>\n",
              "      <td>Malls</td>\n",
              "      <td>Banned</td>\n",
              "      <td>UTAH CODE ANN. §§ 26-38-2 and 26-38-3</td>\n",
              "      <td>4</td>\n",
              "      <td>Ranking</td>\n",
              "      <td>Electronic Cigarettes are included in the Utah...</td>\n",
              "      <td>3/19/2012</td>\n",
              "      <td>5/8/2012</td>\n",
              "      <td>(39.360700171000474, -111.58713063499971)</td>\n",
              "      <td>7</td>\n",
              "      <td>LEG</td>\n",
              "      <td>1042LEG</td>\n",
              "      <td>1011SIO</td>\n",
              "      <td>0</td>\n",
              "      <td>722</td>\n",
              "      <td>39.360700171000474</td>\n",
              "      <td>-111.58713063499971</td>\n",
              "      <td>0</td>\n",
              "      <td>0</td>\n",
              "      <td>0</td>\n",
              "      <td>0</td>\n",
              "    </tr>\n",
              "    <tr>\n",
              "      <th>1</th>\n",
              "      <td>2018</td>\n",
              "      <td>4</td>\n",
              "      <td>MA</td>\n",
              "      <td>Massachusetts</td>\n",
              "      <td>Legislation - E-Cigarette - Smokefree Indoor Air</td>\n",
              "      <td>Bars</td>\n",
              "      <td>OSH</td>\n",
              "      <td>Penalties</td>\n",
              "      <td>Penalty to User</td>\n",
              "      <td>Yes</td>\n",
              "      <td>Mass. Gen. Laws 270, § 22</td>\n",
              "      <td>2</td>\n",
              "      <td>Ranking</td>\n",
              "      <td>NaN</td>\n",
              "      <td>7/27/2018</td>\n",
              "      <td>12/31/2018</td>\n",
              "      <td>(42.27687047000046, -72.08269067499964)</td>\n",
              "      <td>11</td>\n",
              "      <td>LEG</td>\n",
              "      <td>1042LEG</td>\n",
              "      <td>1013BAR</td>\n",
              "      <td>1</td>\n",
              "      <td>594</td>\n",
              "      <td>42.27687047000046</td>\n",
              "      <td>-72.08269067499964</td>\n",
              "      <td>1</td>\n",
              "      <td>1</td>\n",
              "      <td>1</td>\n",
              "      <td>1</td>\n",
              "    </tr>\n",
              "  </tbody>\n",
              "</table>\n",
              "</div>"
            ],
            "text/plain": [
              "   YEAR  Quarter LocationAbbr  ... ProvisionValueID MeasureDescID ProvisionDescID\n",
              "0  2016        3           UT  ...                0             0               0\n",
              "1  2018        4           MA  ...                1             1               1\n",
              "\n",
              "[2 rows x 29 columns]"
            ]
          },
          "metadata": {
            "tags": []
          },
          "execution_count": 9
        }
      ]
    },
    {
      "cell_type": "markdown",
      "metadata": {
        "id": "4-qBa4L2zsW1",
        "colab_type": "text"
      },
      "source": [
        ""
      ]
    },
    {
      "cell_type": "markdown",
      "metadata": {
        "id": "4pWlueInF4IZ",
        "colab_type": "text"
      },
      "source": [
        "### Set cluster data - Create a cluster data frame cdf having columns `LocationID` and `MeasureDescID`\n"
      ]
    },
    {
      "cell_type": "code",
      "metadata": {
        "id": "MsKqIx3AWvCW",
        "colab_type": "code",
        "outputId": "a51f3e76-4606-4ecc-8842-ae7baf02076d",
        "colab": {
          "base_uri": "https://localhost:8080/",
          "height": 197
        }
      },
      "source": [
        "\n",
        "df_col_value_1 = 'LocationID'\n",
        "df_col_value_2 = 'MeasureDescID'\n",
        "# create the cluster data frame cdf\n",
        "cdf = df.loc[:,[df_col_value_1, df_col_value_2]]\n",
        "cdf.head()\n",
        "\n"
      ],
      "execution_count": 10,
      "outputs": [
        {
          "output_type": "execute_result",
          "data": {
            "text/html": [
              "<div>\n",
              "<style scoped>\n",
              "    .dataframe tbody tr th:only-of-type {\n",
              "        vertical-align: middle;\n",
              "    }\n",
              "\n",
              "    .dataframe tbody tr th {\n",
              "        vertical-align: top;\n",
              "    }\n",
              "\n",
              "    .dataframe thead th {\n",
              "        text-align: right;\n",
              "    }\n",
              "</style>\n",
              "<table border=\"1\" class=\"dataframe\">\n",
              "  <thead>\n",
              "    <tr style=\"text-align: right;\">\n",
              "      <th></th>\n",
              "      <th>LocationID</th>\n",
              "      <th>MeasureDescID</th>\n",
              "    </tr>\n",
              "  </thead>\n",
              "  <tbody>\n",
              "    <tr>\n",
              "      <th>0</th>\n",
              "      <td>0</td>\n",
              "      <td>0</td>\n",
              "    </tr>\n",
              "    <tr>\n",
              "      <th>1</th>\n",
              "      <td>1</td>\n",
              "      <td>1</td>\n",
              "    </tr>\n",
              "    <tr>\n",
              "      <th>2</th>\n",
              "      <td>1</td>\n",
              "      <td>2</td>\n",
              "    </tr>\n",
              "    <tr>\n",
              "      <th>3</th>\n",
              "      <td>0</td>\n",
              "      <td>3</td>\n",
              "    </tr>\n",
              "    <tr>\n",
              "      <th>4</th>\n",
              "      <td>0</td>\n",
              "      <td>0</td>\n",
              "    </tr>\n",
              "  </tbody>\n",
              "</table>\n",
              "</div>"
            ],
            "text/plain": [
              "   LocationID  MeasureDescID\n",
              "0           0              0\n",
              "1           1              1\n",
              "2           1              2\n",
              "3           0              3\n",
              "4           0              0"
            ]
          },
          "metadata": {
            "tags": []
          },
          "execution_count": 10
        }
      ]
    },
    {
      "cell_type": "code",
      "metadata": {
        "id": "2AebaKcO3B70",
        "colab_type": "code",
        "colab": {}
      },
      "source": [
        "def getRowIndex(ndf, ll):\n",
        "  ndflocList = ndf['LocationID'].tolist()\n",
        "  #ndflocList = list(map(round, ndflocList))\n",
        "  #print(ndflocList)\n",
        "  return ndflocList.index(ll)\n"
      ],
      "execution_count": 0,
      "outputs": []
    },
    {
      "cell_type": "markdown",
      "metadata": {
        "id": "T88EY6aMF4Ic",
        "colab_type": "text"
      },
      "source": [
        "### Bar graph showing the States Location Distribution"
      ]
    },
    {
      "cell_type": "code",
      "metadata": {
        "scrolled": false,
        "id": "v0FkaynfF4Ic",
        "colab_type": "code",
        "outputId": "69d3767a-611c-41b9-d049-dbd52117123f",
        "colab": {
          "base_uri": "https://localhost:8080/",
          "height": 621
        }
      },
      "source": [
        "f, ax = plt.subplots(1,1, figsize = (20, 10))\n",
        "sns.countplot(x=df['LocationAbbr'], ax = ax, palette=\"vlag\")\n",
        "ax.set_title('Locations Distribution')\n",
        "plt.show()\n"
      ],
      "execution_count": 12,
      "outputs": [
        {
          "output_type": "display_data",
          "data": {
            "image/png": "[encoded data removed]",
            "text/plain": [
              "<Figure size 1440x720 with 1 Axes>"
            ]
          },
          "metadata": {
            "tags": []
          }
        }
      ]
    },
    {
      "cell_type": "markdown",
      "metadata": {
        "id": "vll0lCCvF4Ie",
        "colab_type": "text"
      },
      "source": [
        "### Bar graph showing the number of occurance of the Measure Description Distributions.\n"
      ]
    },
    {
      "cell_type": "code",
      "metadata": {
        "scrolled": true,
        "id": "k7RiF_Y1F4If",
        "colab_type": "code",
        "outputId": "fdc9feee-221c-4ce9-a6b1-5f1d55de5abd",
        "colab": {
          "base_uri": "https://localhost:8080/",
          "height": 560
        }
      },
      "source": [
        "f, ax = plt.subplots(1,1, figsize = (10, 6))\n",
        "sns.countplot(x=df['MeasureDesc'], ax = ax, palette=\"vlag\")\n",
        "ax.tick_params('x', rotation = 70)\n",
        "ax.set_title('Measure Description Distributions')\n",
        "plt.show()"
      ],
      "execution_count": 13,
      "outputs": [
        {
          "output_type": "display_data",
          "data": {
            "image/png": "[encoded data removed]",
            "text/plain": [
              "<Figure size 720x432 with 1 Axes>"
            ]
          },
          "metadata": {
            "tags": []
          }
        }
      ]
    },
    {
      "cell_type": "markdown",
      "metadata": {
        "id": "5dFCpvYsF4Ij",
        "colab_type": "text"
      },
      "source": [
        "### Bar graph showing the number of occurance of the Provision Description Distributions.\n"
      ]
    },
    {
      "cell_type": "code",
      "metadata": {
        "scrolled": false,
        "id": "mcbp08-MF4Il",
        "colab_type": "code",
        "outputId": "e49405a5-3218-4a89-b8ff-21a821a19306",
        "colab": {
          "base_uri": "https://localhost:8080/",
          "height": 1000
        }
      },
      "source": [
        "f, ax = plt.subplots(1,1, figsize = (8, 20))\n",
        "sns.countplot(y=df['ProvisionDesc'], ax = ax, palette=\"vlag\")\n",
        "ax.tick_params('x', rotation = 70)\n",
        "ax.set_title('Provision Descrition Distributions')\n",
        "plt.show()"
      ],
      "execution_count": 14,
      "outputs": [
        {
          "output_type": "display_data",
          "data": {
            "image/png": "[encoded data removed]",
            "text/plain": [
              "<Figure size 576x1440 with 1 Axes>"
            ]
          },
          "metadata": {
            "tags": []
          }
        }
      ]
    },
    {
      "cell_type": "markdown",
      "metadata": {
        "id": "kL3W5K0aF4Io",
        "colab_type": "text"
      },
      "source": [
        "### Determining Optimum Clusters using the Elbow method for K-means\n"
      ]
    },
    {
      "cell_type": "code",
      "metadata": {
        "scrolled": true,
        "id": "WdujFKbnF4Ip",
        "colab_type": "code",
        "outputId": "a816e5d8-6371-48ba-dff5-c18e674000c9",
        "colab": {
          "base_uri": "https://localhost:8080/",
          "height": 294
        }
      },
      "source": [
        "distortions=[]\n",
        "K = range(1,10)\n",
        "for k in K:\n",
        "    kmeans = KMeans(n_clusters=k).fit(cdf)\n",
        "    kmeans.fit(cdf)\n",
        "    distortions.append(sum(np.min(cdist(cdf, kmeans.cluster_centers_, 'euclidean'), axis=1)) / cdf.shape[0])\n",
        "# Plot the elbow\n",
        "plt.plot(K, distortions, 'bx-', linewidth=2)\n",
        "plt.xlabel('k')\n",
        "plt.ylabel('Distortion')\n",
        "plt.title('The Elbow Method to find the optimal k')\n",
        "plt.show()\n",
        "\n"
      ],
      "execution_count": 15,
      "outputs": [
        {
          "output_type": "display_data",
          "data": {
            "image/png": "[encoded data removed]",
            "text/plain": [
              "<Figure size 432x288 with 1 Axes>"
            ]
          },
          "metadata": {
            "tags": []
          }
        }
      ]
    },
    {
      "cell_type": "markdown",
      "metadata": {
        "id": "3gmohOfaF4Ir",
        "colab_type": "text"
      },
      "source": [
        "### From the above elbow method plot, the number of optimal clusters N selected is 4\n"
      ]
    },
    {
      "cell_type": "code",
      "metadata": {
        "id": "_qh_huenF4Is",
        "colab_type": "code",
        "outputId": "0caa2cb0-7fcd-4b75-f615-7567599d5627",
        "colab": {
          "base_uri": "https://localhost:8080/",
          "height": 52
        }
      },
      "source": [
        "N = 4\n",
        "print('Selecting optimum N value =', N)\n",
        "print('Found distortion from elbow method for',N, 'clusters =', distortions[N-1])\n",
        "\n"
      ],
      "execution_count": 16,
      "outputs": [
        {
          "output_type": "stream",
          "text": [
            "Selecting optimum N value = 4\n",
            "Found distortion from elbow method for 4 clusters = 4.863603940198783\n"
          ],
          "name": "stdout"
        }
      ]
    },
    {
      "cell_type": "markdown",
      "metadata": {
        "id": "baxnFAikF4Iu",
        "colab_type": "text"
      },
      "source": [
        "### Function to plot the clusters\n"
      ]
    },
    {
      "cell_type": "code",
      "metadata": {
        "scrolled": true,
        "id": "g_hyO37BF4Iu",
        "colab_type": "code",
        "colab": {}
      },
      "source": [
        "def plot_figure(cdf_col1, cdf_col2,labels,centroids=[]):    \n",
        "    import matplotlib.pyplot as plt\n",
        "    plt.figure(figsize=(10, 8))\n",
        "    plt.scatter(cdf_col1, cdf_col2, c=labels, cmap='rainbow', s = 10)\n",
        "    if len(centroids) > 0:\n",
        "        plt.scatter(centroids[:, 0], centroids[:, 1], s = 100, c = 'black', label = 'Centroids', marker = 'o')\n",
        "        plt.legend(loc=(1.05,0.5))\n",
        "    plt.xlabel(cdf_col1.name)\n",
        "    plt.ylabel(cdf_col2.name)\n",
        "    plt.show()\n"
      ],
      "execution_count": 0,
      "outputs": []
    },
    {
      "cell_type": "markdown",
      "metadata": {
        "id": "5l5IlGsGF4Ix",
        "colab_type": "text"
      },
      "source": [
        "### Implementing K-means algorithm in TensorFlow framework\n"
      ]
    },
    {
      "cell_type": "code",
      "metadata": {
        "id": "TlRj4yPwF4Iy",
        "colab_type": "code",
        "colab": {}
      },
      "source": [
        "def k_means_clustering_tensor_flow(df_col_1, df_col_2, clusters, steps=100):\n",
        "\n",
        "    vec_vals = []\n",
        "    for i in range(len(df_col_1)):\n",
        "        a = df_col_1[i]\n",
        "        b = df_col_2[i]\n",
        "        vec_vals.append([a, b])\n",
        "    v_vals = np.array(vec_vals)\n",
        "    \n",
        "    t0 = time()\n",
        "\n",
        "    sess = tf.Session()\n",
        "    k = clusters\n",
        "    points = v_vals\n",
        "    data = tf.constant(points)   \n",
        "    centroids = tf.Variable(data[:k, :])\n",
        "    data_expanded = tf.expand_dims(data, 0)\n",
        "    centroids_expanded = tf.expand_dims(centroids, 1)\n",
        "\n",
        "    allocations = tf.argmin(tf.reduce_sum(tf.square(data_expanded - centroids_expanded), 2), 0)\n",
        "    sess.run(tf.global_variables_initializer())\n",
        "    c = 0\n",
        "    tf.equal(allocations, c)\n",
        "    tf.gather(data, tf.where(tf.equal(allocations, c)))\n",
        "\n",
        "    means = tf.concat(\n",
        "        [tf.reduce_mean(\n",
        "            tf.gather(data,\n",
        "                      tf.where(tf.equal(allocations, c))), 0) for c in range(k)], 0)\n",
        "\n",
        "    update_centroids = tf.assign(centroids, means)\n",
        "\n",
        "    for step in range(steps):\n",
        "        _, centroid_values, allocation_values = sess.run([update_centroids, centroids, allocations])\n",
        "\n",
        "        clusters_df = pd.DataFrame({df_col_1.name: points[:,0], df_col_2.name: points[:,1], \"cluster\": allocation_values})\n",
        "\n",
        "    train_time = time() - t0\n",
        "    print(\"\\nTime taken to train with KMeans Model using Tensor Flow is %0.2f seconds\" % train_time)\n",
        "\n",
        "    plot_figure(df_col_1, df_col_2, allocation_values, centroid_values)"
      ],
      "execution_count": 0,
      "outputs": []
    },
    {
      "cell_type": "markdown",
      "metadata": {
        "id": "zfq9vkIMF4I4",
        "colab_type": "text"
      },
      "source": [
        "### K Means clustering using tensor flow with clusters N calculated from elbow method\n"
      ]
    },
    {
      "cell_type": "code",
      "metadata": {
        "scrolled": false,
        "id": "qwU9MCVJF4I8",
        "colab_type": "code",
        "outputId": "3a96b604-824f-45da-98dc-39f48391d8be",
        "colab": {
          "base_uri": "https://localhost:8080/",
          "height": 608
        }
      },
      "source": [
        "k_means_clustering_tensor_flow(cdf[df_col_value_1], cdf[df_col_value_2], N, 100)\n",
        "\n"
      ],
      "execution_count": 19,
      "outputs": [
        {
          "output_type": "stream",
          "text": [
            "WARNING:tensorflow:From <ipython-input-18-51ea4264e0c4>:24: add_dispatch_support.<locals>.wrapper (from tensorflow.python.ops.array_ops) is deprecated and will be removed in a future version.\n",
            "Instructions for updating:\n",
            "Use tf.where in 2.0, which has the same broadcast rule as np.where\n",
            "\n",
            "Time taken to train with KMeans Model using Tensor Flow is 1.67 seconds\n"
          ],
          "name": "stdout"
        },
        {
          "output_type": "display_data",
          "data": {
            "image/png": "[encoded data removed]",
            "text/plain": [
              "<Figure size 720x576 with 1 Axes>"
            ]
          },
          "metadata": {
            "tags": []
          }
        }
      ]
    },
    {
      "cell_type": "markdown",
      "metadata": {
        "id": "GBzbFFqTF4I_",
        "colab_type": "text"
      },
      "source": [
        "### Clustering performance evaluation for K-means, GMM and Mini-batch Kmeans\n",
        "\n",
        "#### Metrics Name\t  \n",
        "Adjusted Rand index<br/>\n",
        "Mutual Information based scores<br/>\n",
        "Homogeneity, completeness and V-measure<br/>\n",
        "Fowlkes-Mallows scores<br/>\n",
        "Calinski-Harabaz Index<br/>\n",
        "Davies-Bouldin Index<br/>\n",
        "Contingency Matrix<br/>\n",
        "\n",
        "Initializing `metricsdf` for calculating metrics \n"
      ]
    },
    {
      "cell_type": "code",
      "metadata": {
        "scrolled": true,
        "id": "64CywlJiF4JA",
        "colab_type": "code",
        "outputId": "3eab44af-a4ca-4edd-ab8a-9762b16a0af7",
        "colab": {
          "base_uri": "https://localhost:8080/",
          "height": 137
        }
      },
      "source": [
        "metricsdf = pd.DataFrame(index=['KMEANS','GMM', 'MBK'], \n",
        "                         columns=['ARI','MI','HCV','FM','CH','DB'])\n",
        "\n",
        "XX = cdf[df_col_value_1]\n",
        "YY = cdf[df_col_value_2]\n",
        "\n",
        "# intially all cells are NaN\n",
        "metricsdf\n"
      ],
      "execution_count": 20,
      "outputs": [
        {
          "output_type": "execute_result",
          "data": {
            "text/html": [
              "<div>\n",
              "<style scoped>\n",
              "    .dataframe tbody tr th:only-of-type {\n",
              "        vertical-align: middle;\n",
              "    }\n",
              "\n",
              "    .dataframe tbody tr th {\n",
              "        vertical-align: top;\n",
              "    }\n",
              "\n",
              "    .dataframe thead th {\n",
              "        text-align: right;\n",
              "    }\n",
              "</style>\n",
              "<table border=\"1\" class=\"dataframe\">\n",
              "  <thead>\n",
              "    <tr style=\"text-align: right;\">\n",
              "      <th></th>\n",
              "      <th>ARI</th>\n",
              "      <th>MI</th>\n",
              "      <th>HCV</th>\n",
              "      <th>FM</th>\n",
              "      <th>CH</th>\n",
              "      <th>DB</th>\n",
              "    </tr>\n",
              "  </thead>\n",
              "  <tbody>\n",
              "    <tr>\n",
              "      <th>KMEANS</th>\n",
              "      <td>NaN</td>\n",
              "      <td>NaN</td>\n",
              "      <td>NaN</td>\n",
              "      <td>NaN</td>\n",
              "      <td>NaN</td>\n",
              "      <td>NaN</td>\n",
              "    </tr>\n",
              "    <tr>\n",
              "      <th>GMM</th>\n",
              "      <td>NaN</td>\n",
              "      <td>NaN</td>\n",
              "      <td>NaN</td>\n",
              "      <td>NaN</td>\n",
              "      <td>NaN</td>\n",
              "      <td>NaN</td>\n",
              "    </tr>\n",
              "    <tr>\n",
              "      <th>MBK</th>\n",
              "      <td>NaN</td>\n",
              "      <td>NaN</td>\n",
              "      <td>NaN</td>\n",
              "      <td>NaN</td>\n",
              "      <td>NaN</td>\n",
              "      <td>NaN</td>\n",
              "    </tr>\n",
              "  </tbody>\n",
              "</table>\n",
              "</div>"
            ],
            "text/plain": [
              "        ARI   MI  HCV   FM   CH   DB\n",
              "KMEANS  NaN  NaN  NaN  NaN  NaN  NaN\n",
              "GMM     NaN  NaN  NaN  NaN  NaN  NaN\n",
              "MBK     NaN  NaN  NaN  NaN  NaN  NaN"
            ]
          },
          "metadata": {
            "tags": []
          },
          "execution_count": 20
        }
      ]
    },
    {
      "cell_type": "markdown",
      "metadata": {
        "id": "tR-aW1mUF4JC",
        "colab_type": "text"
      },
      "source": [
        "### Function for the performace evaluation for related metrics for KMEANS, GMM, and Mini-batch K-means\n"
      ]
    },
    {
      "cell_type": "code",
      "metadata": {
        "id": "a7e8WQnAF4JD",
        "colab_type": "code",
        "colab": {}
      },
      "source": [
        "def calcMetrics(algorithm):\n",
        "    # Get metrics data for the algorithms\n",
        "    metricsdf.loc[algorithm,'ARI'] = metrics.adjusted_rand_score(YY, labels)\n",
        "    metricsdf.loc[algorithm,'MI']  = metrics.adjusted_mutual_info_score(YY, labels)\n",
        "    metricsdf.loc[algorithm,'HCV'] = metrics.homogeneity_score(YY, labels)\n",
        "    metricsdf.loc[algorithm,'FM'] = metrics.fowlkes_mallows_score(YY, labels)\n",
        "    metricsdf.loc[algorithm,'CH'] = metrics.calinski_harabasz_score(cdf, labels)\n",
        "    metricsdf.loc[algorithm,'DB'] = metrics.davies_bouldin_score(cdf, labels)\n",
        "    return\n"
      ],
      "execution_count": 0,
      "outputs": []
    },
    {
      "cell_type": "markdown",
      "metadata": {
        "id": "DJtXpWb1F4JE",
        "colab_type": "text"
      },
      "source": [
        "### Implementing Gaussian Mixture  Model in Scikit learn framework\n"
      ]
    },
    {
      "cell_type": "code",
      "metadata": {
        "scrolled": false,
        "id": "4p8XGT-VF4JF",
        "colab_type": "code",
        "outputId": "937ec0b3-b176-46a9-ce0c-6ca7c9fb8ea2",
        "colab": {
          "base_uri": "https://localhost:8080/",
          "height": 535
        }
      },
      "source": [
        "# N is taken from elbow method that was found using k-means\n",
        "gmm = mixture.GaussianMixture(n_components=N, covariance_type='tied', random_state = 0)\n",
        "t0 = time()\n",
        "gmm.fit(cdf)\n",
        "train_time = time() - t0\n",
        "print(\"\\nTime taken to train with GMM Model is %0.2f seconds\" % train_time)\n",
        "labels = gmm.predict(cdf)\n",
        "calcMetrics('GMM')\n",
        "plot_figure(cdf[df_col_value_1], cdf[df_col_value_2], labels)\n",
        "\n"
      ],
      "execution_count": 22,
      "outputs": [
        {
          "output_type": "stream",
          "text": [
            "\n",
            "Time taken to train with GMM Model is 0.53 seconds\n"
          ],
          "name": "stdout"
        },
        {
          "output_type": "display_data",
          "data": {
            "image/png": "[encoded data removed]",
            "text/plain": [
              "<Figure size 720x576 with 1 Axes>"
            ]
          },
          "metadata": {
            "tags": []
          }
        }
      ]
    },
    {
      "cell_type": "markdown",
      "metadata": {
        "id": "oGNJoEB4F4JH",
        "colab_type": "text"
      },
      "source": [
        "### Implementation of Mini Batch KMeans alogorithm using Scikit learn framework\n"
      ]
    },
    {
      "cell_type": "code",
      "metadata": {
        "id": "fabl7hQ8F4JI",
        "colab_type": "code",
        "outputId": "71530461-a0c4-4771-cf44-54f074309616",
        "colab": {
          "base_uri": "https://localhost:8080/",
          "height": 535
        }
      },
      "source": [
        "from sklearn.cluster import MiniBatchKMeans\n",
        "\n",
        "mbk = MiniBatchKMeans(init='k-means++', n_clusters=4, batch_size=100,\n",
        "                      n_init=10, max_no_improvement=10, verbose=0,\n",
        "                      random_state=0)\n",
        "t0 = time()\n",
        "mbk.fit(cdf)\n",
        "t_mini_batch = time() - t0\n",
        "print(\"\\nTime taken to train with MiniBatchKMeans Model is %0.2f seconds\" % t_mini_batch)\n",
        "labels = mbk.labels_\n",
        "centroids = mbk.cluster_centers_\n",
        "calcMetrics('MBK')\n",
        "\n",
        "plot_figure(cdf[df_col_value_1], cdf[df_col_value_2], labels, centroids)"
      ],
      "execution_count": 23,
      "outputs": [
        {
          "output_type": "stream",
          "text": [
            "\n",
            "Time taken to train with MiniBatchKMeans Model is 0.56 seconds\n"
          ],
          "name": "stdout"
        },
        {
          "output_type": "display_data",
          "data": {
            "image/png": "[encoded data removed]",
            "text/plain": [
              "<Figure size 720x576 with 1 Axes>"
            ]
          },
          "metadata": {
            "tags": []
          }
        }
      ]
    },
    {
      "cell_type": "markdown",
      "metadata": {
        "id": "My4RhRLqF4JK",
        "colab_type": "text"
      },
      "source": [
        "### Implementation of K-means algorithm using Scikit learn framework\n"
      ]
    },
    {
      "cell_type": "code",
      "metadata": {
        "scrolled": false,
        "id": "ituURIgbF4JK",
        "colab_type": "code",
        "outputId": "5e4d4189-44b9-44f8-924b-e5c9b0d07710",
        "colab": {
          "base_uri": "https://localhost:8080/",
          "height": 535
        }
      },
      "source": [
        "# Using number of clusters N\n",
        "\n",
        "kmeans = KMeans(init='k-means++', n_clusters = N, random_state = 0, max_iter = 500)\n",
        "t0 = time()\n",
        "kmeans.fit(cdf)\n",
        "train_time = time() - t0\n",
        "print(\"\\nTime taken to train with KMeans Model using ScikitLearn is %0.2f seconds\" % train_time)\n",
        "labels = kmeans.labels_\n",
        "centroids = kmeans.cluster_centers_\n",
        "calcMetrics('KMEANS')\n",
        "plot_figure(cdf[df_col_value_1], cdf[df_col_value_2], labels, centroids)\n"
      ],
      "execution_count": 24,
      "outputs": [
        {
          "output_type": "stream",
          "text": [
            "\n",
            "Time taken to train with KMeans Model using ScikitLearn is 0.73 seconds\n"
          ],
          "name": "stdout"
        },
        {
          "output_type": "display_data",
          "data": {
            "image/png": "[encoded data removed]",
            "text/plain": [
              "<Figure size 720x576 with 1 Axes>"
            ]
          },
          "metadata": {
            "tags": []
          }
        }
      ]
    },
    {
      "cell_type": "markdown",
      "metadata": {
        "id": "s1OtqVMQF4JM",
        "colab_type": "text"
      },
      "source": [
        "### Clustering performance evaluation - KMEANS, GMM, Mini Batch Kmeans\n"
      ]
    },
    {
      "cell_type": "code",
      "metadata": {
        "scrolled": true,
        "id": "YndN1BfrF4JP",
        "colab_type": "code",
        "outputId": "51016d9f-4e01-4c9d-d86d-26a55c6d1e7f",
        "colab": {
          "base_uri": "https://localhost:8080/",
          "height": 191
        }
      },
      "source": [
        "print('\\nCompare performance of the Scikit Learn Clustering Models')\n",
        "print('As we can see, KMEANS, Mini Batch Kmeans are almost same and better than GMM')\n",
        "metricsdf"
      ],
      "execution_count": 25,
      "outputs": [
        {
          "output_type": "stream",
          "text": [
            "\n",
            "Compare performance of the Scikit Learn Clustering Models\n",
            "As we can see, KMEANS, Mini Batch Kmeans are almost same and better than GMM\n"
          ],
          "name": "stdout"
        },
        {
          "output_type": "execute_result",
          "data": {
            "text/html": [
              "<div>\n",
              "<style scoped>\n",
              "    .dataframe tbody tr th:only-of-type {\n",
              "        vertical-align: middle;\n",
              "    }\n",
              "\n",
              "    .dataframe tbody tr th {\n",
              "        vertical-align: top;\n",
              "    }\n",
              "\n",
              "    .dataframe thead th {\n",
              "        text-align: right;\n",
              "    }\n",
              "</style>\n",
              "<table border=\"1\" class=\"dataframe\">\n",
              "  <thead>\n",
              "    <tr style=\"text-align: right;\">\n",
              "      <th></th>\n",
              "      <th>ARI</th>\n",
              "      <th>MI</th>\n",
              "      <th>HCV</th>\n",
              "      <th>FM</th>\n",
              "      <th>CH</th>\n",
              "      <th>DB</th>\n",
              "    </tr>\n",
              "  </thead>\n",
              "  <tbody>\n",
              "    <tr>\n",
              "      <th>KMEANS</th>\n",
              "      <td>-3.94674e-05</td>\n",
              "      <td>-5.43826e-05</td>\n",
              "      <td>8.67671e-06</td>\n",
              "      <td>0.153558</td>\n",
              "      <td>326309</td>\n",
              "      <td>0.669526</td>\n",
              "    </tr>\n",
              "    <tr>\n",
              "      <th>GMM</th>\n",
              "      <td>4.01811e-05</td>\n",
              "      <td>5.85707e-05</td>\n",
              "      <td>0.000121623</td>\n",
              "      <td>0.15409</td>\n",
              "      <td>322174</td>\n",
              "      <td>0.675562</td>\n",
              "    </tr>\n",
              "    <tr>\n",
              "      <th>MBK</th>\n",
              "      <td>-3.96864e-05</td>\n",
              "      <td>-5.54208e-05</td>\n",
              "      <td>7.63855e-06</td>\n",
              "      <td>0.153622</td>\n",
              "      <td>326022</td>\n",
              "      <td>0.670351</td>\n",
              "    </tr>\n",
              "  </tbody>\n",
              "</table>\n",
              "</div>"
            ],
            "text/plain": [
              "                ARI           MI          HCV        FM      CH        DB\n",
              "KMEANS -3.94674e-05 -5.43826e-05  8.67671e-06  0.153558  326309  0.669526\n",
              "GMM     4.01811e-05  5.85707e-05  0.000121623   0.15409  322174  0.675562\n",
              "MBK    -3.96864e-05 -5.54208e-05  7.63855e-06  0.153622  326022  0.670351"
            ]
          },
          "metadata": {
            "tags": []
          },
          "execution_count": 25
        }
      ]
    },
    {
      "cell_type": "markdown",
      "metadata": {
        "id": "zM8KzaaeF4JR",
        "colab_type": "text"
      },
      "source": [
        "### Function for identifying top three values in each cluster for LocationDesc, ProvisionValue, ProvisionDesc, ProvisionGroupDesc, and MeasureDesc attributes.\n"
      ]
    },
    {
      "cell_type": "code",
      "metadata": {
        "id": "Loi_wX0tF4JR",
        "colab_type": "code",
        "colab": {}
      },
      "source": [
        "def findTopInEachCluster(x, col, data, clusters, n):\n",
        "    top_lists = [dict() for i in range(n)]\n",
        "    c = 0\n",
        "    \n",
        "    for index, row in data.iterrows():\n",
        "        i = clusters[c]\n",
        "        c += 1\n",
        "        if row[col] in top_lists[i]:\n",
        "            top_lists[i][row[col]] += 1\n",
        "        else:\n",
        "             top_lists[i][row[col]] = 1\n",
        "    \n",
        "    title = 'Top ' + str(x) + ' ' + str(col) + ' in each cluster' \n",
        "    VAR1 = list()\n",
        "    VAR2 = list()\n",
        "    print(title)\n",
        "    for i in range(n):\n",
        "        print('\\nCluster ', i)\n",
        "        sorted_list = sorted(top_lists[i].items(), key=lambda kv: kv[1])\n",
        "        sorted_list = list(reversed(sorted_list))\n",
        "        var1 = list()\n",
        "        var2 = list()\n",
        "        for y in range(x):\n",
        "            #print(str(y+1) + '. ' + str(sorted_list[y]))\n",
        "            print(str(y+1) + '. (' + col + ', Count) = ' + str(sorted_list[y]))\n",
        "            var1.append(sorted_list[y][0])\n",
        "            var2.append(sorted_list[y][1])\n",
        "        VAR1.append(var1)\n",
        "        VAR2.append(var2)\n",
        "    \n",
        "    plt.figure(figsize=(10, 10))\n",
        "    plt.suptitle(title, fontsize=20)\n",
        "    colorlist = ['b', 'r', 'g', 'c', 'm', 'y']\n",
        "    for i in range(n):\n",
        "        plt.subplot(221+i)\n",
        "        plt.bar(VAR1[i],VAR2[i], width = 0.25, color=colorlist[i])\n",
        "        plt.xticks(rotation=45)\n",
        "        titlestr = 'Cluster ' + str(i)\n",
        "        plt.title(titlestr, fontsize=10)\n",
        "    plt.show()\n",
        "    \n",
        "    return\n",
        "\n",
        "top_x = 3"
      ],
      "execution_count": 0,
      "outputs": []
    },
    {
      "cell_type": "markdown",
      "metadata": {
        "id": "LDnAEEvsF4JX",
        "colab_type": "text"
      },
      "source": [
        "### Top Locations in each Cluster"
      ]
    },
    {
      "cell_type": "code",
      "metadata": {
        "scrolled": false,
        "id": "dBuggnA-F4JY",
        "colab_type": "code",
        "outputId": "e5256813-0263-497b-87b4-611dbece123f",
        "colab": {
          "base_uri": "https://localhost:8080/",
          "height": 1000
        }
      },
      "source": [
        "findTopInEachCluster(top_x, 'LocationDesc', df, labels, N)"
      ],
      "execution_count": 27,
      "outputs": [
        {
          "output_type": "stream",
          "text": [
            "Top 3 LocationDesc in each cluster\n",
            "\n",
            "Cluster  0\n",
            "1. (LocationDesc, Count) = ('Utah', 2326)\n",
            "2. (LocationDesc, Count) = ('Alaska', 1831)\n",
            "3. (LocationDesc, Count) = ('Massachusetts', 1797)\n",
            "\n",
            "Cluster  1\n",
            "1. (LocationDesc, Count) = ('Maryland', 1709)\n",
            "2. (LocationDesc, Count) = ('Virginia', 1705)\n",
            "3. (LocationDesc, Count) = ('Arkansas', 1705)\n",
            "\n",
            "Cluster  2\n",
            "1. (LocationDesc, Count) = ('Rhode Island', 1885)\n",
            "2. (LocationDesc, Count) = ('Nevada', 1782)\n",
            "3. (LocationDesc, Count) = ('Connecticut', 1718)\n",
            "\n",
            "Cluster  3\n",
            "1. (LocationDesc, Count) = ('Delaware', 1718)\n",
            "2. (LocationDesc, Count) = ('Hawaii', 1708)\n",
            "3. (LocationDesc, Count) = ('Idaho', 1705)\n"
          ],
          "name": "stdout"
        },
        {
          "output_type": "display_data",
          "data": {
            "image/png": "[encoded data removed]",
            "text/plain": [
              "<Figure size 720x720 with 4 Axes>"
            ]
          },
          "metadata": {
            "tags": []
          }
        }
      ]
    },
    {
      "cell_type": "markdown",
      "metadata": {
        "id": "ADvsO6fWF4Ja",
        "colab_type": "text"
      },
      "source": [
        "### Top ProvisionValue in each Cluster\n"
      ]
    },
    {
      "cell_type": "code",
      "metadata": {
        "scrolled": false,
        "id": "4ZcjO5DmF4Jb",
        "colab_type": "code",
        "outputId": "9cdc7603-bcf0-4cce-8f2c-e15dbd739f98",
        "colab": {
          "base_uri": "https://localhost:8080/",
          "height": 1000
        }
      },
      "source": [
        "findTopInEachCluster(top_x, 'ProvisionValue', df, labels, N)"
      ],
      "execution_count": 28,
      "outputs": [
        {
          "output_type": "stream",
          "text": [
            "Top 3 ProvisionValue in each cluster\n",
            "\n",
            "Cluster  0\n",
            "1. (ProvisionValue, Count) = ('No Provision', 22020)\n",
            "2. (ProvisionValue, Count) = ('Banned', 993)\n",
            "3. (ProvisionValue, Count) = ('Yes', 870)\n",
            "\n",
            "Cluster  1\n",
            "1. (ProvisionValue, Count) = ('No Provision', 25500)\n",
            "2. (ProvisionValue, Count) = ('Yes', 32)\n",
            "3. (ProvisionValue, Count) = ('Banned', 30)\n",
            "\n",
            "Cluster  2\n",
            "1. (ProvisionValue, Count) = ('No Provision', 23664)\n",
            "2. (ProvisionValue, Count) = ('Yes', 773)\n",
            "3. (ProvisionValue, Count) = ('Banned', 528)\n",
            "\n",
            "Cluster  3\n",
            "1. (ProvisionValue, Count) = ('No Provision', 22479)\n",
            "2. (ProvisionValue, Count) = ('Yes', 485)\n",
            "3. (ProvisionValue, Count) = ('Banned', 307)\n"
          ],
          "name": "stdout"
        },
        {
          "output_type": "display_data",
          "data": {
            "image/png": "[encoded data removed]",
            "text/plain": [
              "<Figure size 720x720 with 4 Axes>"
            ]
          },
          "metadata": {
            "tags": []
          }
        }
      ]
    },
    {
      "cell_type": "markdown",
      "metadata": {
        "id": "QpYqcgmSF4Jc",
        "colab_type": "text"
      },
      "source": [
        "### Top Provision Descriptions in each Cluster"
      ]
    },
    {
      "cell_type": "code",
      "metadata": {
        "scrolled": false,
        "id": "1TU3UbDXF4Jd",
        "colab_type": "code",
        "outputId": "99ae3869-af59-40be-eb10-377ccac39407",
        "colab": {
          "base_uri": "https://localhost:8080/",
          "height": 1000
        }
      },
      "source": [
        "findTopInEachCluster(top_x, 'ProvisionDesc', df, labels, N)\n"
      ],
      "execution_count": 29,
      "outputs": [
        {
          "output_type": "stream",
          "text": [
            "Top 3 ProvisionDesc in each cluster\n",
            "\n",
            "Cluster  0\n",
            "1. (ProvisionDesc, Count) = ('Minimum Penalty ($)', 1556)\n",
            "2. (ProvisionDesc, Count) = ('Enforcement Authority', 1556)\n",
            "3. (ProvisionDesc, Count) = ('Maximum Penalty ($)', 1556)\n",
            "\n",
            "Cluster  1\n",
            "1. (ProvisionDesc, Count) = ('Maximum Penalty ($)', 1651)\n",
            "2. (ProvisionDesc, Count) = ('Minimum Penalty ($)', 1651)\n",
            "3. (ProvisionDesc, Count) = ('Enforcement Authority', 1650)\n",
            "\n",
            "Cluster  2\n",
            "1. (ProvisionDesc, Count) = ('Enforcement (Type)', 1677)\n",
            "2. (ProvisionDesc, Count) = ('Enforcement Authority', 1675)\n",
            "3. (ProvisionDesc, Count) = ('Maximum Penalty ($)', 1671)\n",
            "\n",
            "Cluster  3\n",
            "1. (ProvisionDesc, Count) = ('Maximum Penalty ($)', 1554)\n",
            "2. (ProvisionDesc, Count) = ('Minimum Penalty ($)', 1541)\n",
            "3. (ProvisionDesc, Count) = ('Enforcement Authority', 1540)\n"
          ],
          "name": "stdout"
        },
        {
          "output_type": "display_data",
          "data": {
            "image/png": "[encoded data removed]",
            "text/plain": [
              "<Figure size 720x720 with 4 Axes>"
            ]
          },
          "metadata": {
            "tags": []
          }
        }
      ]
    },
    {
      "cell_type": "markdown",
      "metadata": {
        "id": "4Ygx8XV3F4Je",
        "colab_type": "text"
      },
      "source": [
        "### Top Provision Group Descriptions in each Cluster"
      ]
    },
    {
      "cell_type": "code",
      "metadata": {
        "scrolled": false,
        "id": "AzwLZzkFF4Jf",
        "colab_type": "code",
        "outputId": "7f3845fe-7c80-44d9-d67a-da98d0eb3ac6",
        "colab": {
          "base_uri": "https://localhost:8080/",
          "height": 1000
        }
      },
      "source": [
        "findTopInEachCluster(top_x, 'ProvisionGroupDesc', df, labels, N)"
      ],
      "execution_count": 30,
      "outputs": [
        {
          "output_type": "stream",
          "text": [
            "Top 3 ProvisionGroupDesc in each cluster\n",
            "\n",
            "Cluster  0\n",
            "1. (ProvisionGroupDesc, Count) = ('Penalties', 7935)\n",
            "2. (ProvisionGroupDesc, Count) = ('Enforcement', 4200)\n",
            "3. (ProvisionGroupDesc, Count) = ('Restriction Areas', 3810)\n",
            "\n",
            "Cluster  1\n",
            "1. (ProvisionGroupDesc, Count) = ('Penalties', 8419)\n",
            "2. (ProvisionGroupDesc, Count) = ('Enforcement', 4455)\n",
            "3. (ProvisionGroupDesc, Count) = ('Restriction Areas', 3795)\n",
            "\n",
            "Cluster  2\n",
            "1. (ProvisionGroupDesc, Count) = ('Penalties', 8506)\n",
            "2. (ProvisionGroupDesc, Count) = ('Enforcement', 4527)\n",
            "3. (ProvisionGroupDesc, Count) = ('Restriction Areas', 3841)\n",
            "\n",
            "Cluster  3\n",
            "1. (ProvisionGroupDesc, Count) = ('Penalties', 7870)\n",
            "2. (ProvisionGroupDesc, Count) = ('Enforcement', 4158)\n",
            "3. (ProvisionGroupDesc, Count) = ('Restriction Areas', 3526)\n"
          ],
          "name": "stdout"
        },
        {
          "output_type": "display_data",
          "data": {
            "image/png": "[encoded data removed]",
            "text/plain": [
              "<Figure size 720x720 with 4 Axes>"
            ]
          },
          "metadata": {
            "tags": []
          }
        }
      ]
    },
    {
      "cell_type": "markdown",
      "metadata": {
        "id": "mLHthPbyF4Jg",
        "colab_type": "text"
      },
      "source": [
        "### Top Measure Descriptions in each Cluster"
      ]
    },
    {
      "cell_type": "code",
      "metadata": {
        "scrolled": false,
        "id": "d7rJMyMwF4Ji",
        "colab_type": "code",
        "outputId": "4293d2a3-75aa-4cfd-8791-353a9cb8be92",
        "colab": {
          "base_uri": "https://localhost:8080/",
          "height": 1000
        }
      },
      "source": [
        "findTopInEachCluster(top_x, 'MeasureDesc', df, labels, N)"
      ],
      "execution_count": 31,
      "outputs": [
        {
          "output_type": "stream",
          "text": [
            "Top 3 MeasureDesc in each cluster\n",
            "\n",
            "Cluster  0\n",
            "1. (MeasureDesc, Count) = ('Government Worksites', 3005)\n",
            "2. (MeasureDesc, Count) = ('Private Worksites', 2674)\n",
            "3. (MeasureDesc, Count) = ('Restaurants', 2593)\n",
            "\n",
            "Cluster  1\n",
            "1. (MeasureDesc, Count) = ('Government Worksites', 3135)\n",
            "2. (MeasureDesc, Count) = ('Private Worksites', 2805)\n",
            "3. (MeasureDesc, Count) = ('Home-based Day Care Centers', 2640)\n",
            "\n",
            "Cluster  2\n",
            "1. (MeasureDesc, Count) = ('Government Worksites', 3168)\n",
            "2. (MeasureDesc, Count) = ('Private Worksites', 2837)\n",
            "3. (MeasureDesc, Count) = ('Restaurants', 2675)\n",
            "\n",
            "Cluster  3\n",
            "1. (MeasureDesc, Count) = ('Government Worksites', 2924)\n",
            "2. (MeasureDesc, Count) = ('Private Worksites', 2630)\n",
            "3. (MeasureDesc, Count) = ('Home-based Day Care Centers', 2462)\n"
          ],
          "name": "stdout"
        },
        {
          "output_type": "display_data",
          "data": {
            "image/png": "[encoded data removed]",
            "text/plain": [
              "<Figure size 720x720 with 4 Axes>"
            ]
          },
          "metadata": {
            "tags": []
          }
        }
      ]
    },
    {
      "cell_type": "markdown",
      "metadata": {
        "id": "01XFp0JHhIe9",
        "colab_type": "text"
      },
      "source": [
        "### Create data frame for map plotting"
      ]
    },
    {
      "cell_type": "code",
      "metadata": {
        "scrolled": false,
        "colab_type": "code",
        "outputId": "1640c190-fc02-4d52-b591-7be3152697d9",
        "id": "BEEfy0MvY3bo",
        "colab": {
          "base_uri": "https://localhost:8080/",
          "height": 322
        }
      },
      "source": [
        "\n",
        "\n",
        "#rdf = df.groupby([\"LocationID\", \"Latitude\", \"Longitude\", \"MeasureDesc\"]).size().reset_index(name=\"Restricted\")\n",
        "rdf = df.groupby([\"LocationID\", \"MeasureDesc\"]).size().reset_index(name=\"Restricted\")\n",
        "\n",
        "indexNames = rdf[(rdf['MeasureDesc'] != \"Bars\") & (rdf['MeasureDesc'] != \"Restaurants\") & (rdf['MeasureDesc'] != \"Government Worksites\") & (rdf['MeasureDesc'] != \"Private Worksites\")].index\n",
        "rdf.drop(indexNames , inplace=True)\n",
        "print(rdf.shape)\n",
        "print(rdf.head())\n",
        "\n",
        "\n",
        "bannedList = ['Bars', 'Restaurants', 'Government Worksites', 'Private Worksites']\n",
        "\n",
        "ndf = pd.DataFrame(rdf.LocationID.unique(), columns =['LocationID'])\n",
        "for bl in bannedList:\n",
        "  ndf[bl] = 0\n",
        "\n",
        "locList = ndf.LocationID.unique().tolist()\n",
        "\n",
        "for ll in locList:\n",
        "    for bl in bannedList:\n",
        "        try:\n",
        "          val = rdf.loc[(rdf['LocationID'] == ll) & (rdf['MeasureDesc'] == bl), 'Restricted'].values[0]\n",
        "          rowindex = getRowIndex(ndf, ll)\n",
        "          if rowindex != -1:\n",
        "            ndf.set_value(rowindex, bl, val)\n",
        "          else:\n",
        "            print(False, ndf.at[ll, 'LocationID'])\n",
        "        except:\n",
        "          ndf.set_value(rowindex, bl, 0)\n",
        "\n",
        "ndf = ndf.fillna(0)\n",
        "\n",
        "ndf.head()\n",
        "\n",
        "\n"
      ],
      "execution_count": 32,
      "outputs": [
        {
          "output_type": "stream",
          "text": [
            "(232, 3)\n",
            "    LocationID           MeasureDesc  Restricted\n",
            "0            0                  Bars         213\n",
            "3            0  Government Worksites         263\n",
            "8            0     Private Worksites         214\n",
            "9            0           Restaurants         284\n",
            "11           1                  Bars         143\n"
          ],
          "name": "stdout"
        },
        {
          "output_type": "execute_result",
          "data": {
            "text/html": [
              "<div>\n",
              "<style scoped>\n",
              "    .dataframe tbody tr th:only-of-type {\n",
              "        vertical-align: middle;\n",
              "    }\n",
              "\n",
              "    .dataframe tbody tr th {\n",
              "        vertical-align: top;\n",
              "    }\n",
              "\n",
              "    .dataframe thead th {\n",
              "        text-align: right;\n",
              "    }\n",
              "</style>\n",
              "<table border=\"1\" class=\"dataframe\">\n",
              "  <thead>\n",
              "    <tr style=\"text-align: right;\">\n",
              "      <th></th>\n",
              "      <th>LocationID</th>\n",
              "      <th>Bars</th>\n",
              "      <th>Restaurants</th>\n",
              "      <th>Government Worksites</th>\n",
              "      <th>Private Worksites</th>\n",
              "    </tr>\n",
              "  </thead>\n",
              "  <tbody>\n",
              "    <tr>\n",
              "      <th>0</th>\n",
              "      <td>0</td>\n",
              "      <td>213</td>\n",
              "      <td>284</td>\n",
              "      <td>263</td>\n",
              "      <td>214</td>\n",
              "    </tr>\n",
              "    <tr>\n",
              "      <th>1</th>\n",
              "      <td>1</td>\n",
              "      <td>143</td>\n",
              "      <td>188</td>\n",
              "      <td>223</td>\n",
              "      <td>199</td>\n",
              "    </tr>\n",
              "    <tr>\n",
              "      <th>2</th>\n",
              "      <td>2</td>\n",
              "      <td>132</td>\n",
              "      <td>176</td>\n",
              "      <td>209</td>\n",
              "      <td>187</td>\n",
              "    </tr>\n",
              "    <tr>\n",
              "      <th>3</th>\n",
              "      <td>3</td>\n",
              "      <td>132</td>\n",
              "      <td>176</td>\n",
              "      <td>209</td>\n",
              "      <td>187</td>\n",
              "    </tr>\n",
              "    <tr>\n",
              "      <th>4</th>\n",
              "      <td>4</td>\n",
              "      <td>132</td>\n",
              "      <td>176</td>\n",
              "      <td>209</td>\n",
              "      <td>187</td>\n",
              "    </tr>\n",
              "  </tbody>\n",
              "</table>\n",
              "</div>"
            ],
            "text/plain": [
              "   LocationID  Bars  Restaurants  Government Worksites  Private Worksites\n",
              "0           0   213          284                   263                214\n",
              "1           1   143          188                   223                199\n",
              "2           2   132          176                   209                187\n",
              "3           3   132          176                   209                187\n",
              "4           4   132          176                   209                187"
            ]
          },
          "metadata": {
            "tags": []
          },
          "execution_count": 32
        }
      ]
    },
    {
      "cell_type": "markdown",
      "metadata": {
        "id": "_WDBaYuphcNH",
        "colab_type": "text"
      },
      "source": [
        "### Total Restricted count of Bars, Restaurants, Worksites are calculated"
      ]
    },
    {
      "cell_type": "code",
      "metadata": {
        "id": "iXbeMmBqZau7",
        "colab_type": "code",
        "outputId": "2bbd8414-477e-4368-853b-d39d799f8471",
        "colab": {
          "base_uri": "https://localhost:8080/",
          "height": 1000
        }
      },
      "source": [
        "for bl in bannedList:        \n",
        "  ndf[bl] = pd.to_numeric(ndf[bl], errors='ignore')          \n",
        "\n",
        "ndf['Restricted'] = ndf['Bars'] + ndf['Restaurants'] + ndf['Government Worksites'] + ndf['Private Worksites']\n",
        "\n",
        "ndf['Latitude'] = ''\n",
        "ndf['Longitude'] = ''\n",
        "\n",
        "\n",
        "loc = ndf['LocationID'].unique().tolist()\n",
        "locMapping = dict( zip(loc,range(len(loc))) )\n",
        "\n",
        "print(locationIndexList)\n",
        "print(latitudeIndexList)\n",
        "print(longitudeIndexList)\n",
        "print(locAbbrIndexList)\n",
        "\n",
        "\n",
        "for ll in locList:\n",
        "    locidxval = locationIndexList[ll]\n",
        "    locidxvalndf = locList.index(ll)\n",
        "    latval = latitudeIndexList[locidxval]\n",
        "    lonval = longitudeIndexList[locidxval]\n",
        "    abbval = locAbbrIndexList[locidxval]\n",
        "    ndf.set_value(locidxvalndf, 'Latitude', latval )\n",
        "    ndf.set_value(locidxvalndf, 'Longitude', lonval )\n",
        "    ndf.set_value(locidxvalndf, 'LocationAbbr', abbval )\n",
        "    \n",
        "#ndf.sort_values('Restricted',ascending = True).head(100)\n",
        "ndf.head(100)"
      ],
      "execution_count": 33,
      "outputs": [
        {
          "output_type": "stream",
          "text": [
            "[0, 1, 2, 3, 4, 5, 6, 7, 8, 9, 10, 11, 12, 13, 14, 15, 16, 17, 18, 19, 20, 21, 22, 23, 24, 25, 26, 27, 28, 29, 30, 31, 32, 33, 34, 35, 36, 37, 38, 39, 40, 41, 42, 43, 44, 45, 46, 47, 48, 49, 50, 51, 52, 53, 54, 55, 56, 57]\n",
            "[39.360700171000474, 42.27687047000046, 43.62538123900049, 40.13057004800049, 38.89037138500049, 32.83968109300048, 47.52227862900048, 37.63864012300047, 39.766910452000445, 38.66551020200046, 38.34774030000045, 38.635790776000476, 47.47531977900047, 64.84507995700051, 44.56744942400047, 47.06652897200047, 39.008830667000495, 31.827240407000488, 13.444304, 34.52088095200048, 35.68094058000048, 21.304850435000446, 41.6410409880005, 44.6613195430005, 28.932040377000476, 46.35564873600049, 43.23554134300048, 43.682630005000476, 38.843840757000464, 39.493240390000494, 15.0979, 40.48501028300046, 35.466220975000454, 45.254228894000505, 40.06021014100048, 31.31266064400046, 32.84057112200048, 42.82700103200045, 18.220833, 7.514979999999999, 42.46940091300047, 41.70828019300046, 41.56266102000046, 39.29058096400047, 37.645970271000465, -14.3016396, 34.865970280000454, 35.47203135600046, 32.745510099000455, 33.998821303000454, 40.79373015200048, 44.39319117400049, 18.335765, 43.65595011300047, 11.3246908, 44.353130053000484, 34.74865012400045, 37.54268067400045]\n",
            "[-111.58713063499971, -72.08269067499964, -72.51764079099962, -74.27369128799967, -77.03196112699965, -83.62758034599966, -120.47001078999972, -120.99999953799971, -86.14996019399968, -80.71264013499967, -98.20078122699965, -92.56630005299968, -100.11842104899966, -147.72205903599973, -120.15503132599969, -109.42442064499971, -75.57774116799965, -99.42677020599967, 144.793731, -106.24058098499967, -85.77449091399967, -157.85774940299973, -99.36572062299967, -84.71439026999968, -81.92896053899966, -94.79420050299967, -108.10983035299967, -114.3637300419997, -106.13361092099967, -117.07184056399967, 145.6739, -88.99771017799969, -79.15925046299964, -68.98503133599962, -82.40426005599966, -92.44568007099969, -86.63186076199969, -75.54397042699964, -66.590149, 134.58251999999993, -93.81649055599968, -71.52247031399963, -72.64984095199964, -76.60926011099963, -84.77497104799966, -170.69618149999997, -111.76381127699972, -97.52107021399968, -89.53803082499968, -81.04537120699968, -77.86070029399963, -89.81637074199966, -64.896335, -71.50036091999965, 166.84174239999993, -100.3735306369997, -92.27449074299966, -78.45789046299967]\n",
            "['UT', 'MA', 'VT', 'NJ', 'DC', 'GA', 'WA', 'CA', 'IN', 'WV', 'KS', 'MO', 'ND', 'AK', 'OR', 'MT', 'DE', 'TX', 'GU', 'NM', 'TN', 'HI', 'NE', 'MI', 'FL', 'MN', 'WY', 'ID', 'CO', 'NV', 'MP', 'IL', 'NC', 'ME', 'OH', 'LA', 'AL', 'NY', 'PR', 'PW', 'IA', 'RI', 'CT', 'MD', 'KY', 'AS', 'AZ', 'OK', 'MS', 'SC', 'PA', 'WI', 'VI', 'NH', 'MH', 'SD', 'AR', 'VA']\n"
          ],
          "name": "stdout"
        },
        {
          "output_type": "execute_result",
          "data": {
            "text/html": [
              "<div>\n",
              "<style scoped>\n",
              "    .dataframe tbody tr th:only-of-type {\n",
              "        vertical-align: middle;\n",
              "    }\n",
              "\n",
              "    .dataframe tbody tr th {\n",
              "        vertical-align: top;\n",
              "    }\n",
              "\n",
              "    .dataframe thead th {\n",
              "        text-align: right;\n",
              "    }\n",
              "</style>\n",
              "<table border=\"1\" class=\"dataframe\">\n",
              "  <thead>\n",
              "    <tr style=\"text-align: right;\">\n",
              "      <th></th>\n",
              "      <th>LocationID</th>\n",
              "      <th>Bars</th>\n",
              "      <th>Restaurants</th>\n",
              "      <th>Government Worksites</th>\n",
              "      <th>Private Worksites</th>\n",
              "      <th>Restricted</th>\n",
              "      <th>Latitude</th>\n",
              "      <th>Longitude</th>\n",
              "      <th>LocationAbbr</th>\n",
              "    </tr>\n",
              "  </thead>\n",
              "  <tbody>\n",
              "    <tr>\n",
              "      <th>0</th>\n",
              "      <td>0</td>\n",
              "      <td>213</td>\n",
              "      <td>284</td>\n",
              "      <td>263</td>\n",
              "      <td>214</td>\n",
              "      <td>974</td>\n",
              "      <td>39.3607</td>\n",
              "      <td>-111.587</td>\n",
              "      <td>UT</td>\n",
              "    </tr>\n",
              "    <tr>\n",
              "      <th>1</th>\n",
              "      <td>1</td>\n",
              "      <td>143</td>\n",
              "      <td>188</td>\n",
              "      <td>223</td>\n",
              "      <td>199</td>\n",
              "      <td>753</td>\n",
              "      <td>42.2769</td>\n",
              "      <td>-72.0827</td>\n",
              "      <td>MA</td>\n",
              "    </tr>\n",
              "    <tr>\n",
              "      <th>2</th>\n",
              "      <td>2</td>\n",
              "      <td>132</td>\n",
              "      <td>176</td>\n",
              "      <td>209</td>\n",
              "      <td>187</td>\n",
              "      <td>704</td>\n",
              "      <td>43.6254</td>\n",
              "      <td>-72.5176</td>\n",
              "      <td>VT</td>\n",
              "    </tr>\n",
              "    <tr>\n",
              "      <th>3</th>\n",
              "      <td>3</td>\n",
              "      <td>132</td>\n",
              "      <td>176</td>\n",
              "      <td>209</td>\n",
              "      <td>187</td>\n",
              "      <td>704</td>\n",
              "      <td>40.1306</td>\n",
              "      <td>-74.2737</td>\n",
              "      <td>NJ</td>\n",
              "    </tr>\n",
              "    <tr>\n",
              "      <th>4</th>\n",
              "      <td>4</td>\n",
              "      <td>132</td>\n",
              "      <td>176</td>\n",
              "      <td>209</td>\n",
              "      <td>187</td>\n",
              "      <td>704</td>\n",
              "      <td>38.8904</td>\n",
              "      <td>-77.032</td>\n",
              "      <td>DC</td>\n",
              "    </tr>\n",
              "    <tr>\n",
              "      <th>5</th>\n",
              "      <td>5</td>\n",
              "      <td>132</td>\n",
              "      <td>176</td>\n",
              "      <td>209</td>\n",
              "      <td>187</td>\n",
              "      <td>704</td>\n",
              "      <td>32.8397</td>\n",
              "      <td>-83.6276</td>\n",
              "      <td>GA</td>\n",
              "    </tr>\n",
              "    <tr>\n",
              "      <th>6</th>\n",
              "      <td>6</td>\n",
              "      <td>132</td>\n",
              "      <td>176</td>\n",
              "      <td>209</td>\n",
              "      <td>187</td>\n",
              "      <td>704</td>\n",
              "      <td>47.5223</td>\n",
              "      <td>-120.47</td>\n",
              "      <td>WA</td>\n",
              "    </tr>\n",
              "    <tr>\n",
              "      <th>7</th>\n",
              "      <td>7</td>\n",
              "      <td>132</td>\n",
              "      <td>176</td>\n",
              "      <td>209</td>\n",
              "      <td>187</td>\n",
              "      <td>704</td>\n",
              "      <td>37.6386</td>\n",
              "      <td>-121</td>\n",
              "      <td>CA</td>\n",
              "    </tr>\n",
              "    <tr>\n",
              "      <th>8</th>\n",
              "      <td>8</td>\n",
              "      <td>132</td>\n",
              "      <td>176</td>\n",
              "      <td>209</td>\n",
              "      <td>187</td>\n",
              "      <td>704</td>\n",
              "      <td>39.7669</td>\n",
              "      <td>-86.15</td>\n",
              "      <td>IN</td>\n",
              "    </tr>\n",
              "    <tr>\n",
              "      <th>9</th>\n",
              "      <td>9</td>\n",
              "      <td>132</td>\n",
              "      <td>176</td>\n",
              "      <td>209</td>\n",
              "      <td>187</td>\n",
              "      <td>704</td>\n",
              "      <td>38.6655</td>\n",
              "      <td>-80.7126</td>\n",
              "      <td>WV</td>\n",
              "    </tr>\n",
              "    <tr>\n",
              "      <th>10</th>\n",
              "      <td>10</td>\n",
              "      <td>138</td>\n",
              "      <td>176</td>\n",
              "      <td>209</td>\n",
              "      <td>187</td>\n",
              "      <td>710</td>\n",
              "      <td>38.3477</td>\n",
              "      <td>-98.2008</td>\n",
              "      <td>KS</td>\n",
              "    </tr>\n",
              "    <tr>\n",
              "      <th>11</th>\n",
              "      <td>11</td>\n",
              "      <td>132</td>\n",
              "      <td>176</td>\n",
              "      <td>209</td>\n",
              "      <td>187</td>\n",
              "      <td>704</td>\n",
              "      <td>38.6358</td>\n",
              "      <td>-92.5663</td>\n",
              "      <td>MO</td>\n",
              "    </tr>\n",
              "    <tr>\n",
              "      <th>12</th>\n",
              "      <td>12</td>\n",
              "      <td>132</td>\n",
              "      <td>176</td>\n",
              "      <td>209</td>\n",
              "      <td>187</td>\n",
              "      <td>704</td>\n",
              "      <td>47.4753</td>\n",
              "      <td>-100.118</td>\n",
              "      <td>ND</td>\n",
              "    </tr>\n",
              "    <tr>\n",
              "      <th>13</th>\n",
              "      <td>13</td>\n",
              "      <td>144</td>\n",
              "      <td>185</td>\n",
              "      <td>220</td>\n",
              "      <td>204</td>\n",
              "      <td>753</td>\n",
              "      <td>64.8451</td>\n",
              "      <td>-147.722</td>\n",
              "      <td>AK</td>\n",
              "    </tr>\n",
              "    <tr>\n",
              "      <th>14</th>\n",
              "      <td>14</td>\n",
              "      <td>132</td>\n",
              "      <td>176</td>\n",
              "      <td>209</td>\n",
              "      <td>187</td>\n",
              "      <td>704</td>\n",
              "      <td>44.5674</td>\n",
              "      <td>-120.155</td>\n",
              "      <td>OR</td>\n",
              "    </tr>\n",
              "    <tr>\n",
              "      <th>15</th>\n",
              "      <td>15</td>\n",
              "      <td>132</td>\n",
              "      <td>176</td>\n",
              "      <td>209</td>\n",
              "      <td>187</td>\n",
              "      <td>704</td>\n",
              "      <td>47.0665</td>\n",
              "      <td>-109.424</td>\n",
              "      <td>MT</td>\n",
              "    </tr>\n",
              "    <tr>\n",
              "      <th>16</th>\n",
              "      <td>16</td>\n",
              "      <td>132</td>\n",
              "      <td>176</td>\n",
              "      <td>209</td>\n",
              "      <td>200</td>\n",
              "      <td>717</td>\n",
              "      <td>39.0088</td>\n",
              "      <td>-75.5777</td>\n",
              "      <td>DE</td>\n",
              "    </tr>\n",
              "    <tr>\n",
              "      <th>17</th>\n",
              "      <td>17</td>\n",
              "      <td>132</td>\n",
              "      <td>176</td>\n",
              "      <td>209</td>\n",
              "      <td>187</td>\n",
              "      <td>704</td>\n",
              "      <td>31.8272</td>\n",
              "      <td>-99.4268</td>\n",
              "      <td>TX</td>\n",
              "    </tr>\n",
              "    <tr>\n",
              "      <th>18</th>\n",
              "      <td>18</td>\n",
              "      <td>132</td>\n",
              "      <td>176</td>\n",
              "      <td>209</td>\n",
              "      <td>187</td>\n",
              "      <td>704</td>\n",
              "      <td>13.4443</td>\n",
              "      <td>144.794</td>\n",
              "      <td>GU</td>\n",
              "    </tr>\n",
              "    <tr>\n",
              "      <th>19</th>\n",
              "      <td>19</td>\n",
              "      <td>132</td>\n",
              "      <td>176</td>\n",
              "      <td>209</td>\n",
              "      <td>187</td>\n",
              "      <td>704</td>\n",
              "      <td>34.5209</td>\n",
              "      <td>-106.241</td>\n",
              "      <td>NM</td>\n",
              "    </tr>\n",
              "    <tr>\n",
              "      <th>20</th>\n",
              "      <td>20</td>\n",
              "      <td>132</td>\n",
              "      <td>176</td>\n",
              "      <td>209</td>\n",
              "      <td>187</td>\n",
              "      <td>704</td>\n",
              "      <td>35.6809</td>\n",
              "      <td>-85.7745</td>\n",
              "      <td>TN</td>\n",
              "    </tr>\n",
              "    <tr>\n",
              "      <th>21</th>\n",
              "      <td>21</td>\n",
              "      <td>135</td>\n",
              "      <td>176</td>\n",
              "      <td>209</td>\n",
              "      <td>187</td>\n",
              "      <td>707</td>\n",
              "      <td>21.3049</td>\n",
              "      <td>-157.858</td>\n",
              "      <td>HI</td>\n",
              "    </tr>\n",
              "    <tr>\n",
              "      <th>22</th>\n",
              "      <td>22</td>\n",
              "      <td>132</td>\n",
              "      <td>176</td>\n",
              "      <td>209</td>\n",
              "      <td>187</td>\n",
              "      <td>704</td>\n",
              "      <td>41.641</td>\n",
              "      <td>-99.3657</td>\n",
              "      <td>NE</td>\n",
              "    </tr>\n",
              "    <tr>\n",
              "      <th>23</th>\n",
              "      <td>23</td>\n",
              "      <td>132</td>\n",
              "      <td>176</td>\n",
              "      <td>209</td>\n",
              "      <td>187</td>\n",
              "      <td>704</td>\n",
              "      <td>44.6613</td>\n",
              "      <td>-84.7144</td>\n",
              "      <td>MI</td>\n",
              "    </tr>\n",
              "    <tr>\n",
              "      <th>24</th>\n",
              "      <td>24</td>\n",
              "      <td>129</td>\n",
              "      <td>172</td>\n",
              "      <td>207</td>\n",
              "      <td>186</td>\n",
              "      <td>694</td>\n",
              "      <td>28.932</td>\n",
              "      <td>-81.929</td>\n",
              "      <td>FL</td>\n",
              "    </tr>\n",
              "    <tr>\n",
              "      <th>25</th>\n",
              "      <td>25</td>\n",
              "      <td>132</td>\n",
              "      <td>176</td>\n",
              "      <td>209</td>\n",
              "      <td>187</td>\n",
              "      <td>704</td>\n",
              "      <td>46.3556</td>\n",
              "      <td>-94.7942</td>\n",
              "      <td>MN</td>\n",
              "    </tr>\n",
              "    <tr>\n",
              "      <th>26</th>\n",
              "      <td>26</td>\n",
              "      <td>132</td>\n",
              "      <td>176</td>\n",
              "      <td>209</td>\n",
              "      <td>187</td>\n",
              "      <td>704</td>\n",
              "      <td>43.2355</td>\n",
              "      <td>-108.11</td>\n",
              "      <td>WY</td>\n",
              "    </tr>\n",
              "    <tr>\n",
              "      <th>27</th>\n",
              "      <td>27</td>\n",
              "      <td>132</td>\n",
              "      <td>176</td>\n",
              "      <td>209</td>\n",
              "      <td>187</td>\n",
              "      <td>704</td>\n",
              "      <td>43.6826</td>\n",
              "      <td>-114.364</td>\n",
              "      <td>ID</td>\n",
              "    </tr>\n",
              "    <tr>\n",
              "      <th>28</th>\n",
              "      <td>28</td>\n",
              "      <td>132</td>\n",
              "      <td>176</td>\n",
              "      <td>209</td>\n",
              "      <td>187</td>\n",
              "      <td>704</td>\n",
              "      <td>38.8438</td>\n",
              "      <td>-106.134</td>\n",
              "      <td>CO</td>\n",
              "    </tr>\n",
              "    <tr>\n",
              "      <th>29</th>\n",
              "      <td>29</td>\n",
              "      <td>143</td>\n",
              "      <td>188</td>\n",
              "      <td>220</td>\n",
              "      <td>197</td>\n",
              "      <td>748</td>\n",
              "      <td>39.4932</td>\n",
              "      <td>-117.072</td>\n",
              "      <td>NV</td>\n",
              "    </tr>\n",
              "    <tr>\n",
              "      <th>30</th>\n",
              "      <td>30</td>\n",
              "      <td>132</td>\n",
              "      <td>176</td>\n",
              "      <td>209</td>\n",
              "      <td>187</td>\n",
              "      <td>704</td>\n",
              "      <td>15.0979</td>\n",
              "      <td>145.674</td>\n",
              "      <td>MP</td>\n",
              "    </tr>\n",
              "    <tr>\n",
              "      <th>31</th>\n",
              "      <td>31</td>\n",
              "      <td>134</td>\n",
              "      <td>176</td>\n",
              "      <td>209</td>\n",
              "      <td>187</td>\n",
              "      <td>706</td>\n",
              "      <td>40.485</td>\n",
              "      <td>-88.9977</td>\n",
              "      <td>IL</td>\n",
              "    </tr>\n",
              "    <tr>\n",
              "      <th>32</th>\n",
              "      <td>32</td>\n",
              "      <td>132</td>\n",
              "      <td>176</td>\n",
              "      <td>209</td>\n",
              "      <td>187</td>\n",
              "      <td>704</td>\n",
              "      <td>35.4662</td>\n",
              "      <td>-79.1593</td>\n",
              "      <td>NC</td>\n",
              "    </tr>\n",
              "    <tr>\n",
              "      <th>33</th>\n",
              "      <td>33</td>\n",
              "      <td>132</td>\n",
              "      <td>176</td>\n",
              "      <td>209</td>\n",
              "      <td>187</td>\n",
              "      <td>704</td>\n",
              "      <td>45.2542</td>\n",
              "      <td>-68.985</td>\n",
              "      <td>ME</td>\n",
              "    </tr>\n",
              "    <tr>\n",
              "      <th>34</th>\n",
              "      <td>34</td>\n",
              "      <td>132</td>\n",
              "      <td>176</td>\n",
              "      <td>209</td>\n",
              "      <td>187</td>\n",
              "      <td>704</td>\n",
              "      <td>40.0602</td>\n",
              "      <td>-82.4043</td>\n",
              "      <td>OH</td>\n",
              "    </tr>\n",
              "    <tr>\n",
              "      <th>35</th>\n",
              "      <td>35</td>\n",
              "      <td>132</td>\n",
              "      <td>176</td>\n",
              "      <td>209</td>\n",
              "      <td>187</td>\n",
              "      <td>704</td>\n",
              "      <td>31.3127</td>\n",
              "      <td>-92.4457</td>\n",
              "      <td>LA</td>\n",
              "    </tr>\n",
              "    <tr>\n",
              "      <th>36</th>\n",
              "      <td>36</td>\n",
              "      <td>132</td>\n",
              "      <td>176</td>\n",
              "      <td>209</td>\n",
              "      <td>187</td>\n",
              "      <td>704</td>\n",
              "      <td>32.8406</td>\n",
              "      <td>-86.6319</td>\n",
              "      <td>AL</td>\n",
              "    </tr>\n",
              "    <tr>\n",
              "      <th>37</th>\n",
              "      <td>37</td>\n",
              "      <td>132</td>\n",
              "      <td>176</td>\n",
              "      <td>209</td>\n",
              "      <td>187</td>\n",
              "      <td>704</td>\n",
              "      <td>42.827</td>\n",
              "      <td>-75.544</td>\n",
              "      <td>NY</td>\n",
              "    </tr>\n",
              "    <tr>\n",
              "      <th>38</th>\n",
              "      <td>38</td>\n",
              "      <td>132</td>\n",
              "      <td>176</td>\n",
              "      <td>209</td>\n",
              "      <td>187</td>\n",
              "      <td>704</td>\n",
              "      <td>18.2208</td>\n",
              "      <td>-66.5901</td>\n",
              "      <td>PR</td>\n",
              "    </tr>\n",
              "    <tr>\n",
              "      <th>39</th>\n",
              "      <td>39</td>\n",
              "      <td>132</td>\n",
              "      <td>176</td>\n",
              "      <td>209</td>\n",
              "      <td>187</td>\n",
              "      <td>704</td>\n",
              "      <td>7.51498</td>\n",
              "      <td>134.583</td>\n",
              "      <td>PW</td>\n",
              "    </tr>\n",
              "    <tr>\n",
              "      <th>40</th>\n",
              "      <td>40</td>\n",
              "      <td>132</td>\n",
              "      <td>177</td>\n",
              "      <td>209</td>\n",
              "      <td>187</td>\n",
              "      <td>705</td>\n",
              "      <td>42.4694</td>\n",
              "      <td>-93.8165</td>\n",
              "      <td>IA</td>\n",
              "    </tr>\n",
              "    <tr>\n",
              "      <th>41</th>\n",
              "      <td>41</td>\n",
              "      <td>152</td>\n",
              "      <td>198</td>\n",
              "      <td>231</td>\n",
              "      <td>209</td>\n",
              "      <td>790</td>\n",
              "      <td>41.7083</td>\n",
              "      <td>-71.5225</td>\n",
              "      <td>RI</td>\n",
              "    </tr>\n",
              "    <tr>\n",
              "      <th>42</th>\n",
              "      <td>42</td>\n",
              "      <td>132</td>\n",
              "      <td>176</td>\n",
              "      <td>209</td>\n",
              "      <td>187</td>\n",
              "      <td>704</td>\n",
              "      <td>41.5627</td>\n",
              "      <td>-72.6498</td>\n",
              "      <td>CT</td>\n",
              "    </tr>\n",
              "    <tr>\n",
              "      <th>43</th>\n",
              "      <td>43</td>\n",
              "      <td>136</td>\n",
              "      <td>176</td>\n",
              "      <td>209</td>\n",
              "      <td>187</td>\n",
              "      <td>708</td>\n",
              "      <td>39.2906</td>\n",
              "      <td>-76.6093</td>\n",
              "      <td>MD</td>\n",
              "    </tr>\n",
              "    <tr>\n",
              "      <th>44</th>\n",
              "      <td>44</td>\n",
              "      <td>132</td>\n",
              "      <td>176</td>\n",
              "      <td>209</td>\n",
              "      <td>187</td>\n",
              "      <td>704</td>\n",
              "      <td>37.646</td>\n",
              "      <td>-84.775</td>\n",
              "      <td>KY</td>\n",
              "    </tr>\n",
              "    <tr>\n",
              "      <th>45</th>\n",
              "      <td>45</td>\n",
              "      <td>132</td>\n",
              "      <td>176</td>\n",
              "      <td>209</td>\n",
              "      <td>187</td>\n",
              "      <td>704</td>\n",
              "      <td>-14.3016</td>\n",
              "      <td>-170.696</td>\n",
              "      <td>AS</td>\n",
              "    </tr>\n",
              "    <tr>\n",
              "      <th>46</th>\n",
              "      <td>46</td>\n",
              "      <td>132</td>\n",
              "      <td>176</td>\n",
              "      <td>209</td>\n",
              "      <td>187</td>\n",
              "      <td>704</td>\n",
              "      <td>34.866</td>\n",
              "      <td>-111.764</td>\n",
              "      <td>AZ</td>\n",
              "    </tr>\n",
              "    <tr>\n",
              "      <th>47</th>\n",
              "      <td>47</td>\n",
              "      <td>132</td>\n",
              "      <td>176</td>\n",
              "      <td>209</td>\n",
              "      <td>187</td>\n",
              "      <td>704</td>\n",
              "      <td>35.472</td>\n",
              "      <td>-97.5211</td>\n",
              "      <td>OK</td>\n",
              "    </tr>\n",
              "    <tr>\n",
              "      <th>48</th>\n",
              "      <td>48</td>\n",
              "      <td>132</td>\n",
              "      <td>176</td>\n",
              "      <td>209</td>\n",
              "      <td>187</td>\n",
              "      <td>704</td>\n",
              "      <td>32.7455</td>\n",
              "      <td>-89.538</td>\n",
              "      <td>MS</td>\n",
              "    </tr>\n",
              "    <tr>\n",
              "      <th>49</th>\n",
              "      <td>49</td>\n",
              "      <td>132</td>\n",
              "      <td>176</td>\n",
              "      <td>209</td>\n",
              "      <td>187</td>\n",
              "      <td>704</td>\n",
              "      <td>33.9988</td>\n",
              "      <td>-81.0454</td>\n",
              "      <td>SC</td>\n",
              "    </tr>\n",
              "    <tr>\n",
              "      <th>50</th>\n",
              "      <td>50</td>\n",
              "      <td>132</td>\n",
              "      <td>176</td>\n",
              "      <td>209</td>\n",
              "      <td>187</td>\n",
              "      <td>704</td>\n",
              "      <td>40.7937</td>\n",
              "      <td>-77.8607</td>\n",
              "      <td>PA</td>\n",
              "    </tr>\n",
              "    <tr>\n",
              "      <th>51</th>\n",
              "      <td>51</td>\n",
              "      <td>132</td>\n",
              "      <td>176</td>\n",
              "      <td>209</td>\n",
              "      <td>187</td>\n",
              "      <td>704</td>\n",
              "      <td>44.3932</td>\n",
              "      <td>-89.8164</td>\n",
              "      <td>WI</td>\n",
              "    </tr>\n",
              "    <tr>\n",
              "      <th>52</th>\n",
              "      <td>52</td>\n",
              "      <td>132</td>\n",
              "      <td>176</td>\n",
              "      <td>209</td>\n",
              "      <td>187</td>\n",
              "      <td>704</td>\n",
              "      <td>18.3358</td>\n",
              "      <td>-64.8963</td>\n",
              "      <td>VI</td>\n",
              "    </tr>\n",
              "    <tr>\n",
              "      <th>53</th>\n",
              "      <td>53</td>\n",
              "      <td>132</td>\n",
              "      <td>176</td>\n",
              "      <td>209</td>\n",
              "      <td>187</td>\n",
              "      <td>704</td>\n",
              "      <td>43.656</td>\n",
              "      <td>-71.5004</td>\n",
              "      <td>NH</td>\n",
              "    </tr>\n",
              "    <tr>\n",
              "      <th>54</th>\n",
              "      <td>54</td>\n",
              "      <td>132</td>\n",
              "      <td>176</td>\n",
              "      <td>209</td>\n",
              "      <td>187</td>\n",
              "      <td>704</td>\n",
              "      <td>11.3247</td>\n",
              "      <td>166.842</td>\n",
              "      <td>MH</td>\n",
              "    </tr>\n",
              "    <tr>\n",
              "      <th>55</th>\n",
              "      <td>55</td>\n",
              "      <td>132</td>\n",
              "      <td>176</td>\n",
              "      <td>209</td>\n",
              "      <td>187</td>\n",
              "      <td>704</td>\n",
              "      <td>44.3531</td>\n",
              "      <td>-100.374</td>\n",
              "      <td>SD</td>\n",
              "    </tr>\n",
              "    <tr>\n",
              "      <th>56</th>\n",
              "      <td>56</td>\n",
              "      <td>132</td>\n",
              "      <td>176</td>\n",
              "      <td>209</td>\n",
              "      <td>187</td>\n",
              "      <td>704</td>\n",
              "      <td>34.7487</td>\n",
              "      <td>-92.2745</td>\n",
              "      <td>AR</td>\n",
              "    </tr>\n",
              "    <tr>\n",
              "      <th>57</th>\n",
              "      <td>57</td>\n",
              "      <td>132</td>\n",
              "      <td>176</td>\n",
              "      <td>209</td>\n",
              "      <td>187</td>\n",
              "      <td>704</td>\n",
              "      <td>37.5427</td>\n",
              "      <td>-78.4579</td>\n",
              "      <td>VA</td>\n",
              "    </tr>\n",
              "  </tbody>\n",
              "</table>\n",
              "</div>"
            ],
            "text/plain": [
              "    LocationID  Bars  Restaurants  ...  Latitude  Longitude  LocationAbbr\n",
              "0            0   213          284  ...   39.3607   -111.587            UT\n",
              "1            1   143          188  ...   42.2769   -72.0827            MA\n",
              "2            2   132          176  ...   43.6254   -72.5176            VT\n",
              "3            3   132          176  ...   40.1306   -74.2737            NJ\n",
              "4            4   132          176  ...   38.8904    -77.032            DC\n",
              "5            5   132          176  ...   32.8397   -83.6276            GA\n",
              "6            6   132          176  ...   47.5223    -120.47            WA\n",
              "7            7   132          176  ...   37.6386       -121            CA\n",
              "8            8   132          176  ...   39.7669     -86.15            IN\n",
              "9            9   132          176  ...   38.6655   -80.7126            WV\n",
              "10          10   138          176  ...   38.3477   -98.2008            KS\n",
              "11          11   132          176  ...   38.6358   -92.5663            MO\n",
              "12          12   132          176  ...   47.4753   -100.118            ND\n",
              "13          13   144          185  ...   64.8451   -147.722            AK\n",
              "14          14   132          176  ...   44.5674   -120.155            OR\n",
              "15          15   132          176  ...   47.0665   -109.424            MT\n",
              "16          16   132          176  ...   39.0088   -75.5777            DE\n",
              "17          17   132          176  ...   31.8272   -99.4268            TX\n",
              "18          18   132          176  ...   13.4443    144.794            GU\n",
              "19          19   132          176  ...   34.5209   -106.241            NM\n",
              "20          20   132          176  ...   35.6809   -85.7745            TN\n",
              "21          21   135          176  ...   21.3049   -157.858            HI\n",
              "22          22   132          176  ...    41.641   -99.3657            NE\n",
              "23          23   132          176  ...   44.6613   -84.7144            MI\n",
              "24          24   129          172  ...    28.932    -81.929            FL\n",
              "25          25   132          176  ...   46.3556   -94.7942            MN\n",
              "26          26   132          176  ...   43.2355    -108.11            WY\n",
              "27          27   132          176  ...   43.6826   -114.364            ID\n",
              "28          28   132          176  ...   38.8438   -106.134            CO\n",
              "29          29   143          188  ...   39.4932   -117.072            NV\n",
              "30          30   132          176  ...   15.0979    145.674            MP\n",
              "31          31   134          176  ...    40.485   -88.9977            IL\n",
              "32          32   132          176  ...   35.4662   -79.1593            NC\n",
              "33          33   132          176  ...   45.2542    -68.985            ME\n",
              "34          34   132          176  ...   40.0602   -82.4043            OH\n",
              "35          35   132          176  ...   31.3127   -92.4457            LA\n",
              "36          36   132          176  ...   32.8406   -86.6319            AL\n",
              "37          37   132          176  ...    42.827    -75.544            NY\n",
              "38          38   132          176  ...   18.2208   -66.5901            PR\n",
              "39          39   132          176  ...   7.51498    134.583            PW\n",
              "40          40   132          177  ...   42.4694   -93.8165            IA\n",
              "41          41   152          198  ...   41.7083   -71.5225            RI\n",
              "42          42   132          176  ...   41.5627   -72.6498            CT\n",
              "43          43   136          176  ...   39.2906   -76.6093            MD\n",
              "44          44   132          176  ...    37.646    -84.775            KY\n",
              "45          45   132          176  ...  -14.3016   -170.696            AS\n",
              "46          46   132          176  ...    34.866   -111.764            AZ\n",
              "47          47   132          176  ...    35.472   -97.5211            OK\n",
              "48          48   132          176  ...   32.7455    -89.538            MS\n",
              "49          49   132          176  ...   33.9988   -81.0454            SC\n",
              "50          50   132          176  ...   40.7937   -77.8607            PA\n",
              "51          51   132          176  ...   44.3932   -89.8164            WI\n",
              "52          52   132          176  ...   18.3358   -64.8963            VI\n",
              "53          53   132          176  ...    43.656   -71.5004            NH\n",
              "54          54   132          176  ...   11.3247    166.842            MH\n",
              "55          55   132          176  ...   44.3531   -100.374            SD\n",
              "56          56   132          176  ...   34.7487   -92.2745            AR\n",
              "57          57   132          176  ...   37.5427   -78.4579            VA\n",
              "\n",
              "[58 rows x 9 columns]"
            ]
          },
          "metadata": {
            "tags": []
          },
          "execution_count": 33
        }
      ]
    },
    {
      "cell_type": "markdown",
      "metadata": {
        "id": "uW54-cWKhrBk",
        "colab_type": "text"
      },
      "source": [
        "### Comprehensive = Restricted in worksites, restaurants, and bars as of Q3 2019 Interactive Map Plot"
      ]
    },
    {
      "cell_type": "code",
      "metadata": {
        "id": "_pQpaTicP0SL",
        "colab_type": "code",
        "outputId": "aa21567e-796b-44ce-b060-809f9eda871b",
        "colab": {
          "base_uri": "https://localhost:8080/",
          "height": 816
        }
      },
      "source": [
        "for col in ndf.columns:\n",
        "    ndf[col] = ndf[col].astype(str)\n",
        "\n",
        "ndf['text'] = ndf['LocationAbbr'] + '<br>' + \\\n",
        "    'Bars: ' + ndf['Bars'] + '<br>' + 'Restaurants: ' + ndf['Restaurants'] + '<br>' + \\\n",
        "    'Government Worksites: ' + ndf['Government Worksites'] + '<br>' + 'Private Worksites: ' + ndf['Private Worksites'] + '<br>'\n",
        "\n",
        "fig = go.Figure(data=go.Choropleth(\n",
        "    locations=ndf['LocationAbbr'],\n",
        "    z=ndf['Restricted'].astype(float),\n",
        "    locationmode='USA-states',\n",
        "    colorscale='Earth',\n",
        "    zmin = min(ndf['Restricted'].astype(float)) - 0,\n",
        "    zmax = max(ndf['Restricted'].astype(float)),\n",
        "    autocolorscale=False,\n",
        "    text=ndf['text'], # hover text\n",
        "    marker_line_color='white', # line markers between states\n",
        "    colorbar_title=\"Restricted\"\n",
        "))\n",
        "\n",
        "fig.update_layout(\n",
        "    title_text='Comprehensive = Restricted in worksites, restaurants, and bars as of Q3 2019.<br>(Hover for breakdown)',\n",
        "    autosize=False,\n",
        "    width=1200,\n",
        "    height=800,\n",
        "    geo = dict(\n",
        "        scope='usa',\n",
        "        projection=go.layout.geo.Projection(type = 'albers usa'),\n",
        "        showlakes=True, # lakes\n",
        "        lakecolor='rgb(255, 255, 255)'),\n",
        ")\n",
        "\n",
        "fig.show()"
      ],
      "execution_count": 34,
      "outputs": [
        {
          "output_type": "display_data",
          "data": {
            "text/html": [
              "<html>\n",
              "<head><meta charset=\"utf-8\" /></head>\n",
              "<body>\n",
              "    <div>\n",
              "            <script src=\"https://cdnjs.cloudflare.com/ajax/libs/mathjax/2.7.5/MathJax.js?config=TeX-AMS-MML_SVG\"></script><script type=\"text/javascript\">if (window.MathJax) {MathJax.Hub.Config({SVG: {font: \"STIX-Web\"}});}</script>\n",
              "                <script type=\"text/javascript\">window.PlotlyConfig = {MathJaxConfig: 'local'};</script>\n",
              "        <script src=\"https://cdn.plot.ly/plotly-latest.min.js\"></script>    \n",
              "            <div id=\"49aeed75-41a1-40b3-ad44-4eb8a037379d\" class=\"plotly-graph-div\" style=\"height:800px; width:1200px;\"></div>\n",
              "            <script type=\"text/javascript\">\n",
              "                \n",
              "                    window.PLOTLYENV=window.PLOTLYENV || {};\n",
              "                    \n",
              "                if (document.getElementById(\"49aeed75-41a1-40b3-ad44-4eb8a037379d\")) {\n",
              "                    Plotly.newPlot(\n",
              "                        '49aeed75-41a1-40b3-ad44-4eb8a037379d',\n",
              "                        [{\"autocolorscale\": false, \"colorbar\": {\"title\": {\"text\": \"Restricted\"}}, \"colorscale\": [[0.0, \"rgb(161, 105, 40)\"], [0.16666666666666666, \"rgb(189, 146, 90)\"], [0.3333333333333333, \"rgb(214, 189, 141)\"], [0.5, \"rgb(237, 234, 194)\"], [0.6666666666666666, \"rgb(181, 200, 184)\"], [0.8333333333333334, \"rgb(121, 167, 172)\"], [1.0, \"rgb(40, 135, 161)\"]], \"locationmode\": \"USA-states\", \"locations\": [\"UT\", \"MA\", \"VT\", \"NJ\", \"DC\", \"GA\", \"WA\", \"CA\", \"IN\", \"WV\", \"KS\", \"MO\", \"ND\", \"AK\", \"OR\", \"MT\", \"DE\", \"TX\", \"GU\", \"NM\", \"TN\", \"HI\", \"NE\", \"MI\", \"FL\", \"MN\", \"WY\", \"ID\", \"CO\", \"NV\", \"MP\", \"IL\", \"NC\", \"ME\", \"OH\", \"LA\", \"AL\", \"NY\", \"PR\", \"PW\", \"IA\", \"RI\", \"CT\", \"MD\", \"KY\", \"AS\", \"AZ\", \"OK\", \"MS\", \"SC\", \"PA\", \"WI\", \"VI\", \"NH\", \"MH\", \"SD\", \"AR\", \"VA\"], \"marker\": {\"line\": {\"color\": \"white\"}}, \"text\": [\"UT<br>Bars: 213<br>Restaurants: 284<br>Government Worksites: 263<br>Private Worksites: 214<br>\", \"MA<br>Bars: 143<br>Restaurants: 188<br>Government Worksites: 223<br>Private Worksites: 199<br>\", \"VT<br>Bars: 132<br>Restaurants: 176<br>Government Worksites: 209<br>Private Worksites: 187<br>\", \"NJ<br>Bars: 132<br>Restaurants: 176<br>Government Worksites: 209<br>Private Worksites: 187<br>\", \"DC<br>Bars: 132<br>Restaurants: 176<br>Government Worksites: 209<br>Private Worksites: 187<br>\", \"GA<br>Bars: 132<br>Restaurants: 176<br>Government Worksites: 209<br>Private Worksites: 187<br>\", \"WA<br>Bars: 132<br>Restaurants: 176<br>Government Worksites: 209<br>Private Worksites: 187<br>\", \"CA<br>Bars: 132<br>Restaurants: 176<br>Government Worksites: 209<br>Private Worksites: 187<br>\", \"IN<br>Bars: 132<br>Restaurants: 176<br>Government Worksites: 209<br>Private Worksites: 187<br>\", \"WV<br>Bars: 132<br>Restaurants: 176<br>Government Worksites: 209<br>Private Worksites: 187<br>\", \"KS<br>Bars: 138<br>Restaurants: 176<br>Government Worksites: 209<br>Private Worksites: 187<br>\", \"MO<br>Bars: 132<br>Restaurants: 176<br>Government Worksites: 209<br>Private Worksites: 187<br>\", \"ND<br>Bars: 132<br>Restaurants: 176<br>Government Worksites: 209<br>Private Worksites: 187<br>\", \"AK<br>Bars: 144<br>Restaurants: 185<br>Government Worksites: 220<br>Private Worksites: 204<br>\", \"OR<br>Bars: 132<br>Restaurants: 176<br>Government Worksites: 209<br>Private Worksites: 187<br>\", \"MT<br>Bars: 132<br>Restaurants: 176<br>Government Worksites: 209<br>Private Worksites: 187<br>\", \"DE<br>Bars: 132<br>Restaurants: 176<br>Government Worksites: 209<br>Private Worksites: 200<br>\", \"TX<br>Bars: 132<br>Restaurants: 176<br>Government Worksites: 209<br>Private Worksites: 187<br>\", \"GU<br>Bars: 132<br>Restaurants: 176<br>Government Worksites: 209<br>Private Worksites: 187<br>\", \"NM<br>Bars: 132<br>Restaurants: 176<br>Government Worksites: 209<br>Private Worksites: 187<br>\", \"TN<br>Bars: 132<br>Restaurants: 176<br>Government Worksites: 209<br>Private Worksites: 187<br>\", \"HI<br>Bars: 135<br>Restaurants: 176<br>Government Worksites: 209<br>Private Worksites: 187<br>\", \"NE<br>Bars: 132<br>Restaurants: 176<br>Government Worksites: 209<br>Private Worksites: 187<br>\", \"MI<br>Bars: 132<br>Restaurants: 176<br>Government Worksites: 209<br>Private Worksites: 187<br>\", \"FL<br>Bars: 129<br>Restaurants: 172<br>Government Worksites: 207<br>Private Worksites: 186<br>\", \"MN<br>Bars: 132<br>Restaurants: 176<br>Government Worksites: 209<br>Private Worksites: 187<br>\", \"WY<br>Bars: 132<br>Restaurants: 176<br>Government Worksites: 209<br>Private Worksites: 187<br>\", \"ID<br>Bars: 132<br>Restaurants: 176<br>Government Worksites: 209<br>Private Worksites: 187<br>\", \"CO<br>Bars: 132<br>Restaurants: 176<br>Government Worksites: 209<br>Private Worksites: 187<br>\", \"NV<br>Bars: 143<br>Restaurants: 188<br>Government Worksites: 220<br>Private Worksites: 197<br>\", \"MP<br>Bars: 132<br>Restaurants: 176<br>Government Worksites: 209<br>Private Worksites: 187<br>\", \"IL<br>Bars: 134<br>Restaurants: 176<br>Government Worksites: 209<br>Private Worksites: 187<br>\", \"NC<br>Bars: 132<br>Restaurants: 176<br>Government Worksites: 209<br>Private Worksites: 187<br>\", \"ME<br>Bars: 132<br>Restaurants: 176<br>Government Worksites: 209<br>Private Worksites: 187<br>\", \"OH<br>Bars: 132<br>Restaurants: 176<br>Government Worksites: 209<br>Private Worksites: 187<br>\", \"LA<br>Bars: 132<br>Restaurants: 176<br>Government Worksites: 209<br>Private Worksites: 187<br>\", \"AL<br>Bars: 132<br>Restaurants: 176<br>Government Worksites: 209<br>Private Worksites: 187<br>\", \"NY<br>Bars: 132<br>Restaurants: 176<br>Government Worksites: 209<br>Private Worksites: 187<br>\", \"PR<br>Bars: 132<br>Restaurants: 176<br>Government Worksites: 209<br>Private Worksites: 187<br>\", \"PW<br>Bars: 132<br>Restaurants: 176<br>Government Worksites: 209<br>Private Worksites: 187<br>\", \"IA<br>Bars: 132<br>Restaurants: 177<br>Government Worksites: 209<br>Private Worksites: 187<br>\", \"RI<br>Bars: 152<br>Restaurants: 198<br>Government Worksites: 231<br>Private Worksites: 209<br>\", \"CT<br>Bars: 132<br>Restaurants: 176<br>Government Worksites: 209<br>Private Worksites: 187<br>\", \"MD<br>Bars: 136<br>Restaurants: 176<br>Government Worksites: 209<br>Private Worksites: 187<br>\", \"KY<br>Bars: 132<br>Restaurants: 176<br>Government Worksites: 209<br>Private Worksites: 187<br>\", \"AS<br>Bars: 132<br>Restaurants: 176<br>Government Worksites: 209<br>Private Worksites: 187<br>\", \"AZ<br>Bars: 132<br>Restaurants: 176<br>Government Worksites: 209<br>Private Worksites: 187<br>\", \"OK<br>Bars: 132<br>Restaurants: 176<br>Government Worksites: 209<br>Private Worksites: 187<br>\", \"MS<br>Bars: 132<br>Restaurants: 176<br>Government Worksites: 209<br>Private Worksites: 187<br>\", \"SC<br>Bars: 132<br>Restaurants: 176<br>Government Worksites: 209<br>Private Worksites: 187<br>\", \"PA<br>Bars: 132<br>Restaurants: 176<br>Government Worksites: 209<br>Private Worksites: 187<br>\", \"WI<br>Bars: 132<br>Restaurants: 176<br>Government Worksites: 209<br>Private Worksites: 187<br>\", \"VI<br>Bars: 132<br>Restaurants: 176<br>Government Worksites: 209<br>Private Worksites: 187<br>\", \"NH<br>Bars: 132<br>Restaurants: 176<br>Government Worksites: 209<br>Private Worksites: 187<br>\", \"MH<br>Bars: 132<br>Restaurants: 176<br>Government Worksites: 209<br>Private Worksites: 187<br>\", \"SD<br>Bars: 132<br>Restaurants: 176<br>Government Worksites: 209<br>Private Worksites: 187<br>\", \"AR<br>Bars: 132<br>Restaurants: 176<br>Government Worksites: 209<br>Private Worksites: 187<br>\", \"VA<br>Bars: 132<br>Restaurants: 176<br>Government Worksites: 209<br>Private Worksites: 187<br>\"], \"type\": \"choropleth\", \"z\": [974.0, 753.0, 704.0, 704.0, 704.0, 704.0, 704.0, 704.0, 704.0, 704.0, 710.0, 704.0, 704.0, 753.0, 704.0, 704.0, 717.0, 704.0, 704.0, 704.0, 704.0, 707.0, 704.0, 704.0, 694.0, 704.0, 704.0, 704.0, 704.0, 748.0, 704.0, 706.0, 704.0, 704.0, 704.0, 704.0, 704.0, 704.0, 704.0, 704.0, 705.0, 790.0, 704.0, 708.0, 704.0, 704.0, 704.0, 704.0, 704.0, 704.0, 704.0, 704.0, 704.0, 704.0, 704.0, 704.0, 704.0, 704.0], \"zmax\": 974.0, \"zmin\": 694.0}],\n",
              "                        {\"autosize\": false, \"geo\": {\"lakecolor\": \"rgb(255, 255, 255)\", \"projection\": {\"type\": \"albers usa\"}, \"scope\": \"usa\", \"showlakes\": true}, \"height\": 800, \"template\": {\"data\": {\"bar\": [{\"error_x\": {\"color\": \"#2a3f5f\"}, \"error_y\": {\"color\": \"#2a3f5f\"}, \"marker\": {\"line\": {\"color\": \"#E5ECF6\", \"width\": 0.5}}, \"type\": \"bar\"}], \"barpolar\": [{\"marker\": {\"line\": {\"color\": \"#E5ECF6\", \"width\": 0.5}}, \"type\": \"barpolar\"}], \"carpet\": [{\"aaxis\": {\"endlinecolor\": \"#2a3f5f\", \"gridcolor\": \"white\", \"linecolor\": \"white\", \"minorgridcolor\": \"white\", \"startlinecolor\": \"#2a3f5f\"}, \"baxis\": {\"endlinecolor\": \"#2a3f5f\", \"gridcolor\": \"white\", \"linecolor\": \"white\", \"minorgridcolor\": \"white\", \"startlinecolor\": \"#2a3f5f\"}, \"type\": \"carpet\"}], \"choropleth\": [{\"colorbar\": {\"outlinewidth\": 0, \"ticks\": \"\"}, \"type\": \"choropleth\"}], \"contour\": [{\"colorbar\": {\"outlinewidth\": 0, \"ticks\": \"\"}, \"colorscale\": [[0.0, \"#0d0887\"], [0.1111111111111111, \"#46039f\"], [0.2222222222222222, \"#7201a8\"], [0.3333333333333333, \"#9c179e\"], [0.4444444444444444, \"#bd3786\"], [0.5555555555555556, \"#d8576b\"], [0.6666666666666666, \"#ed7953\"], [0.7777777777777778, \"#fb9f3a\"], [0.8888888888888888, \"#fdca26\"], [1.0, \"#f0f921\"]], \"type\": \"contour\"}], \"contourcarpet\": [{\"colorbar\": {\"outlinewidth\": 0, \"ticks\": \"\"}, \"type\": \"contourcarpet\"}], \"heatmap\": [{\"colorbar\": {\"outlinewidth\": 0, \"ticks\": \"\"}, \"colorscale\": [[0.0, \"#0d0887\"], [0.1111111111111111, \"#46039f\"], [0.2222222222222222, \"#7201a8\"], [0.3333333333333333, \"#9c179e\"], [0.4444444444444444, \"#bd3786\"], [0.5555555555555556, \"#d8576b\"], [0.6666666666666666, \"#ed7953\"], [0.7777777777777778, \"#fb9f3a\"], [0.8888888888888888, \"#fdca26\"], [1.0, \"#f0f921\"]], \"type\": \"heatmap\"}], \"heatmapgl\": [{\"colorbar\": {\"outlinewidth\": 0, \"ticks\": \"\"}, \"colorscale\": [[0.0, \"#0d0887\"], [0.1111111111111111, \"#46039f\"], [0.2222222222222222, \"#7201a8\"], [0.3333333333333333, \"#9c179e\"], [0.4444444444444444, \"#bd3786\"], [0.5555555555555556, \"#d8576b\"], [0.6666666666666666, \"#ed7953\"], [0.7777777777777778, \"#fb9f3a\"], [0.8888888888888888, \"#fdca26\"], [1.0, \"#f0f921\"]], \"type\": \"heatmapgl\"}], \"histogram\": [{\"marker\": {\"colorbar\": {\"outlinewidth\": 0, \"ticks\": \"\"}}, \"type\": \"histogram\"}], \"histogram2d\": [{\"colorbar\": {\"outlinewidth\": 0, \"ticks\": \"\"}, \"colorscale\": [[0.0, \"#0d0887\"], [0.1111111111111111, \"#46039f\"], [0.2222222222222222, \"#7201a8\"], [0.3333333333333333, \"#9c179e\"], [0.4444444444444444, \"#bd3786\"], [0.5555555555555556, \"#d8576b\"], [0.6666666666666666, \"#ed7953\"], [0.7777777777777778, \"#fb9f3a\"], [0.8888888888888888, \"#fdca26\"], [1.0, \"#f0f921\"]], \"type\": \"histogram2d\"}], \"histogram2dcontour\": [{\"colorbar\": {\"outlinewidth\": 0, \"ticks\": \"\"}, \"colorscale\": [[0.0, \"#0d0887\"], [0.1111111111111111, \"#46039f\"], [0.2222222222222222, \"#7201a8\"], [0.3333333333333333, \"#9c179e\"], [0.4444444444444444, \"#bd3786\"], [0.5555555555555556, \"#d8576b\"], [0.6666666666666666, \"#ed7953\"], [0.7777777777777778, \"#fb9f3a\"], [0.8888888888888888, \"#fdca26\"], [1.0, \"#f0f921\"]], \"type\": \"histogram2dcontour\"}], \"mesh3d\": [{\"colorbar\": {\"outlinewidth\": 0, \"ticks\": \"\"}, \"type\": \"mesh3d\"}], \"parcoords\": [{\"line\": {\"colorbar\": {\"outlinewidth\": 0, \"ticks\": \"\"}}, \"type\": \"parcoords\"}], \"scatter\": [{\"marker\": {\"colorbar\": {\"outlinewidth\": 0, \"ticks\": \"\"}}, \"type\": \"scatter\"}], \"scatter3d\": [{\"line\": {\"colorbar\": {\"outlinewidth\": 0, \"ticks\": \"\"}}, \"marker\": {\"colorbar\": {\"outlinewidth\": 0, \"ticks\": \"\"}}, \"type\": \"scatter3d\"}], \"scattercarpet\": [{\"marker\": {\"colorbar\": {\"outlinewidth\": 0, \"ticks\": \"\"}}, \"type\": \"scattercarpet\"}], \"scattergeo\": [{\"marker\": {\"colorbar\": {\"outlinewidth\": 0, \"ticks\": \"\"}}, \"type\": \"scattergeo\"}], \"scattergl\": [{\"marker\": {\"colorbar\": {\"outlinewidth\": 0, \"ticks\": \"\"}}, \"type\": \"scattergl\"}], \"scattermapbox\": [{\"marker\": {\"colorbar\": {\"outlinewidth\": 0, \"ticks\": \"\"}}, \"type\": \"scattermapbox\"}], \"scatterpolar\": [{\"marker\": {\"colorbar\": {\"outlinewidth\": 0, \"ticks\": \"\"}}, \"type\": \"scatterpolar\"}], \"scatterpolargl\": [{\"marker\": {\"colorbar\": {\"outlinewidth\": 0, \"ticks\": \"\"}}, \"type\": \"scatterpolargl\"}], \"scatterternary\": [{\"marker\": {\"colorbar\": {\"outlinewidth\": 0, \"ticks\": \"\"}}, \"type\": \"scatterternary\"}], \"surface\": [{\"colorbar\": {\"outlinewidth\": 0, \"ticks\": \"\"}, \"colorscale\": [[0.0, \"#0d0887\"], [0.1111111111111111, \"#46039f\"], [0.2222222222222222, \"#7201a8\"], [0.3333333333333333, \"#9c179e\"], [0.4444444444444444, \"#bd3786\"], [0.5555555555555556, \"#d8576b\"], [0.6666666666666666, \"#ed7953\"], [0.7777777777777778, \"#fb9f3a\"], [0.8888888888888888, \"#fdca26\"], [1.0, \"#f0f921\"]], \"type\": \"surface\"}], \"table\": [{\"cells\": {\"fill\": {\"color\": \"#EBF0F8\"}, \"line\": {\"color\": \"white\"}}, \"header\": {\"fill\": {\"color\": \"#C8D4E3\"}, \"line\": {\"color\": \"white\"}}, \"type\": \"table\"}]}, \"layout\": {\"annotationdefaults\": {\"arrowcolor\": \"#2a3f5f\", \"arrowhead\": 0, \"arrowwidth\": 1}, \"colorscale\": {\"diverging\": [[0, \"#8e0152\"], [0.1, \"#c51b7d\"], [0.2, \"#de77ae\"], [0.3, \"#f1b6da\"], [0.4, \"#fde0ef\"], [0.5, \"#f7f7f7\"], [0.6, \"#e6f5d0\"], [0.7, \"#b8e186\"], [0.8, \"#7fbc41\"], [0.9, \"#4d9221\"], [1, \"#276419\"]], \"sequential\": [[0.0, \"#0d0887\"], [0.1111111111111111, \"#46039f\"], [0.2222222222222222, \"#7201a8\"], [0.3333333333333333, \"#9c179e\"], [0.4444444444444444, \"#bd3786\"], [0.5555555555555556, \"#d8576b\"], [0.6666666666666666, \"#ed7953\"], [0.7777777777777778, \"#fb9f3a\"], [0.8888888888888888, \"#fdca26\"], [1.0, \"#f0f921\"]], \"sequentialminus\": [[0.0, \"#0d0887\"], [0.1111111111111111, \"#46039f\"], [0.2222222222222222, \"#7201a8\"], [0.3333333333333333, \"#9c179e\"], [0.4444444444444444, \"#bd3786\"], [0.5555555555555556, \"#d8576b\"], [0.6666666666666666, \"#ed7953\"], [0.7777777777777778, \"#fb9f3a\"], [0.8888888888888888, \"#fdca26\"], [1.0, \"#f0f921\"]]}, \"colorway\": [\"#636efa\", \"#EF553B\", \"#00cc96\", \"#ab63fa\", \"#FFA15A\", \"#19d3f3\", \"#FF6692\", \"#B6E880\", \"#FF97FF\", \"#FECB52\"], \"font\": {\"color\": \"#2a3f5f\"}, \"geo\": {\"bgcolor\": \"white\", \"lakecolor\": \"white\", \"landcolor\": \"#E5ECF6\", \"showlakes\": true, \"showland\": true, \"subunitcolor\": \"white\"}, \"hoverlabel\": {\"align\": \"left\"}, \"hovermode\": \"closest\", \"mapbox\": {\"style\": \"light\"}, \"paper_bgcolor\": \"white\", \"plot_bgcolor\": \"#E5ECF6\", \"polar\": {\"angularaxis\": {\"gridcolor\": \"white\", \"linecolor\": \"white\", \"ticks\": \"\"}, \"bgcolor\": \"#E5ECF6\", \"radialaxis\": {\"gridcolor\": \"white\", \"linecolor\": \"white\", \"ticks\": \"\"}}, \"scene\": {\"xaxis\": {\"backgroundcolor\": \"#E5ECF6\", \"gridcolor\": \"white\", \"gridwidth\": 2, \"linecolor\": \"white\", \"showbackground\": true, \"ticks\": \"\", \"zerolinecolor\": \"white\"}, \"yaxis\": {\"backgroundcolor\": \"#E5ECF6\", \"gridcolor\": \"white\", \"gridwidth\": 2, \"linecolor\": \"white\", \"showbackground\": true, \"ticks\": \"\", \"zerolinecolor\": \"white\"}, \"zaxis\": {\"backgroundcolor\": \"#E5ECF6\", \"gridcolor\": \"white\", \"gridwidth\": 2, \"linecolor\": \"white\", \"showbackground\": true, \"ticks\": \"\", \"zerolinecolor\": \"white\"}}, \"shapedefaults\": {\"line\": {\"color\": \"#2a3f5f\"}}, \"ternary\": {\"aaxis\": {\"gridcolor\": \"white\", \"linecolor\": \"white\", \"ticks\": \"\"}, \"baxis\": {\"gridcolor\": \"white\", \"linecolor\": \"white\", \"ticks\": \"\"}, \"bgcolor\": \"#E5ECF6\", \"caxis\": {\"gridcolor\": \"white\", \"linecolor\": \"white\", \"ticks\": \"\"}}, \"title\": {\"x\": 0.05}, \"xaxis\": {\"automargin\": true, \"gridcolor\": \"white\", \"linecolor\": \"white\", \"ticks\": \"\", \"zerolinecolor\": \"white\", \"zerolinewidth\": 2}, \"yaxis\": {\"automargin\": true, \"gridcolor\": \"white\", \"linecolor\": \"white\", \"ticks\": \"\", \"zerolinecolor\": \"white\", \"zerolinewidth\": 2}}}, \"title\": {\"text\": \"Comprehensive = Restricted in worksites, restaurants, and bars as of Q3 2019.<br>(Hover for breakdown)\"}, \"width\": 1200},\n",
              "                        {\"responsive\": true}\n",
              "                    ).then(function(){\n",
              "                            \n",
              "var gd = document.getElementById('49aeed75-41a1-40b3-ad44-4eb8a037379d');\n",
              "var x = new MutationObserver(function (mutations, observer) {{\n",
              "        var display = window.getComputedStyle(gd).display;\n",
              "        if (!display || display === 'none') {{\n",
              "            console.log([gd, 'removed!']);\n",
              "            Plotly.purge(gd);\n",
              "            observer.disconnect();\n",
              "        }}\n",
              "}});\n",
              "\n",
              "// Listen for the removal of the full notebook cells\n",
              "var notebookContainer = gd.closest('#notebook-container');\n",
              "if (notebookContainer) {{\n",
              "    x.observe(notebookContainer, {childList: true});\n",
              "}}\n",
              "\n",
              "// Listen for the clearing of the current output cell\n",
              "var outputEl = gd.closest('.output');\n",
              "if (outputEl) {{\n",
              "    x.observe(outputEl, {childList: true});\n",
              "}}\n",
              "\n",
              "                        })\n",
              "                };\n",
              "                \n",
              "            </script>\n",
              "        </div>\n",
              "</body>\n",
              "</html>"
            ]
          },
          "metadata": {
            "tags": []
          }
        }
      ]
    },
    {
      "cell_type": "markdown",
      "metadata": {
        "id": "wjH3aBLhF4Jr",
        "colab_type": "text"
      },
      "source": [
        "### Clusters Analysis\n",
        "\n",
        "The clustering is done based on the `Location` and the `Measurement Description` at each location. KMeans Clusetring method is performed for the data frames using both Tensor Flow and Scikit learn frameworks. GMM clusering and Mini Batch K-Means clustering are run using Scikit learn method. The clustering data set had 2 columns and nearly 100k rows. Using elbow method the optimum clusers are selected as N=4. The clusters are well defined and are visualized using the matlab scatter plots. Also the `Scikit Learn Metrics` are calculated to compare the clustering methods and it is found for this data set for 100K rows, the KMEANS algorithm is better than GMM or Mini Batch KMEANS. <br/>\n",
        "\n"
      ]
    },
    {
      "cell_type": "markdown",
      "metadata": {
        "id": "DNgD4N1xF4Js",
        "colab_type": "text"
      },
      "source": [
        "### Graph Analysis\n",
        "\n",
        "Top three for the parameters (LocationDesc, ProvisionValue, ProvisionDesc, ProvisionGroupDesc, and MeasureDesc) per cluster are found and visualized using the bar chart plots. Here are the observances that were found.\n",
        "\n",
        "1. In all the clusters, there are highly no provisions for e-cigarette compared to either banned or allowed occurances. Eg: in Cluster 0 if 22k occurances are no provisions then only 900 are allowed and 1k are banned. \n",
        "2. In Cluster 0 belonging to states Utah, Alaska, Massechussets there are more number of penalties for e-cigarette usage.\n",
        "3. In Cluster 0 states, e-cigarette usages are high in Worksites and Restaurants. \n"
      ]
    },
    {
      "cell_type": "markdown",
      "metadata": {
        "id": "XsSLQoX4iB1W",
        "colab_type": "text"
      },
      "source": [
        "### Map Analysis, New develpments and Insights\n",
        "\n",
        "An interactive map as of Q3 2019 is visualized using Matlab Plotly Choropleth displaying USA States. Total Restricted count that is sum of Measure Description Parameters of Bars, Restaurants, Government Worksites and Private Worksites are calculated per state. This data is displayed when hovering over each state on the USA Map. For the data selected with 100K rows, following insights can be noticed.\n",
        "\n",
        "1. All states have restrictions to some extent.\n",
        "2. State Utah tops the list. \n",
        "3. Next states are Nevada, Massechussets.\n",
        "4. Almost all the remaining have nearly same usage and restrictions from this dataset. "
      ]
    }
  ]
}